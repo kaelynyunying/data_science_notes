{
 "cells": [
  {
   "cell_type": "markdown",
   "metadata": {},
   "source": [
    "### Importing Packages"
   ]
  },
  {
   "cell_type": "code",
   "execution_count": 22,
   "metadata": {},
   "outputs": [],
   "source": [
    "import pandas as pd\n",
    "import scipy\n",
    "# import shapely\n",
    "# import osmnx\n",
    "# import folium\n",
    "# import dash\n",
    "# import geopandas as gpd\n",
    "# import matplotlib.pyplot as plt\n",
    "# import pysal\n",
    "# import bokeh\n",
    "# import cartopy\n",
    "# import statsmodels\n",
    "# import sklearn\n",
    "# import geoplot\n",
    "# import rasterio\n",
    "# import rasterstats"
   ]
  },
  {
   "cell_type": "markdown",
   "metadata": {},
   "source": [
    "### Overview\n",
    "\n",
    "- Read / write spatial data from/to different file formats\n",
    "- Deal with different projections\n",
    "- Conduct different geometric operations and spatial queries\n",
    "- Convert addresses to points (+ vice versa) i.e. do geocoding\n",
    "- Reclassify your data based on different criteria\n",
    "- Know how to fetch data from OpenStreetMap easily with Python\n",
    "- Know the basics of raster processing in Python\n",
    "- Visualize data and create (interactive) maps"
   ]
  },
  {
   "cell_type": "markdown",
   "metadata": {},
   "source": [
    "### Summary of Useful Packages\n",
    "\n",
    "#### **Data analysis & visualization:**\n",
    "\n",
    "- Numpy –> Fundamental package for scientific computing with Python\n",
    "- Pandas –> High-performance, easy-to-use data structures and data analysis tools\n",
    "- Scipy –> A collection of numerical algorithms and domain-specific toolboxes, including signal processing, optimization and statistics\n",
    "- Statsmodels –> Statistical models for Python\n",
    "- Scikit-learn –> Machine learning for Python (classification, regression, clustering, etc.)\n",
    "- Matplotlib –> Basic plotting library for Python\n",
    "- Seaborn –> Statistical data visualization\n",
    "- Bokeh –> Interactive visualizations for the web (also maps)\n",
    "- Plotly –> Interactive visualizations (also maps) for the web (commercial - free for educational purposes)\n",
    "- Dash –> Building analytical web applications with Python (no Javascript required)\n",
    "\n",
    "#### **GIS:**\n",
    "\n",
    "- GDAL –> Fundamental package for processing vector and raster data formats (many modules below depend on this). Used for raster processing.\n",
    "- Geopandas –> Working with geospatial data in Python made easier, combines the capabilities of pandas and shapely.\n",
    "- Shapely –> Python package for manipulation and analysis of planar geometric objects (based on widely deployed GEOS).\n",
    "- Fiona –> Reading and writing spatial data (alternative for geopandas).\n",
    "- Pyproj –> Performs cartographic transformations and geodetic computations (based on PROJ.4).\n",
    "- PyCRS –> Working eaily with different CRS specifications (EPSG, ESRI, Proj4)\n",
    "- Pysal –> Library of spatial analysis functions written in Python.\n",
    "- Geopy –> Geocoding library: coordinates to address <-> address to coordinates.\n",
    "- GeoViews –> Interactive Maps for the web.\n",
    "- Geoplot –> High-level geospatial data visualization library for Python.\n",
    "- GeoNotebook –> Desktop GIS-like environment for visualizing and interacting with spatial data using Python (based on Jupyter Notebooks)\n",
    "- OSMnx –> Python for street networks. Retrieve, construct, analyze, and visualize street networks from OpenStreetMap\n",
    "- Networkx –> Network analysis and routing in Python (e.g. Dijkstra and A* -algorithms), see this post.\n",
    "- Cartopy –> Make drawing maps for data analysis and visualisation as easy as possible.\n",
    "- Scipy.spatial –> Spatial algorithms and data structures.\n",
    "- Rtree –> Spatial indexing for Python for quick spatial lookups.\n",
    "- Rasterio –> Clean and fast and geospatial raster I/O for Python.\n",
    "- Rasterstats –> A module for summarizing geospatial raster datasets based on vector geometries (e.g. conduct zonal statistics).\n",
    "- RSGISLib –> Remote Sensing and GIS Software Library for Python."
   ]
  },
  {
   "cell_type": "markdown",
   "metadata": {},
   "source": [
    "**Spatial Vector Format in python:**\n",
    "- Consists of fundamental geometric onbjects like Points, Lines and Polygons\n",
    "\n",
    "**Geometric Objects:**\n",
    "\n",
    "Coordinates Tuple Formats:\n",
    "\n",
    "- Point -object represents a single point in space. Points can be either two-dimensional (x, y) or three dimensional (x, y, z).\n",
    "- LineString -object (i.e. a line) represents a sequence of points joined together to form a line. Hence, a line consist of a list of at least two coordinate tuples\n",
    "- Polygon -object represents a filled area that consists of a list of at least three coordinate tuples that forms the outerior ring and a (possible) list of hole polygons.\n",
    "\n",
    "Collection of gemetric objects:\n",
    "\n",
    "- MultiPoint -object represents a collection of points and consists of a list of coordinate-tuples\n",
    "- MultiLineString -object represents a collection of lines and consists of a list of line-like sequences\n",
    "- MultiPolygon -object represents a collection of polygons that consists of a list of polygon-like sequences that construct from exterior ring and (possible) hole list tuples"
   ]
  },
  {
   "cell_type": "code",
   "execution_count": null,
   "metadata": {},
   "outputs": [],
   "source": []
  },
  {
   "cell_type": "code",
   "execution_count": null,
   "metadata": {},
   "outputs": [],
   "source": []
  },
  {
   "cell_type": "markdown",
   "metadata": {},
   "source": [
    "**Python Module Shapely**\n",
    "- used to create and work with Geometric Objects\n",
    "- Create a Line or Polygon from a Collection of Point geometries\n",
    "- Calculate areas/length/bounds etc. of input geometries\n",
    "- Make geometric operations based on the input geometries such as Union, Difference, Distance etc.\n",
    "- Make spatial queries between geometries such Intersects, Touches, Crosses, Within etc."
   ]
  },
  {
   "cell_type": "code",
   "execution_count": null,
   "metadata": {},
   "outputs": [],
   "source": []
  },
  {
   "cell_type": "code",
   "execution_count": null,
   "metadata": {},
   "outputs": [],
   "source": []
  },
  {
   "cell_type": "code",
   "execution_count": null,
   "metadata": {},
   "outputs": [],
   "source": []
  },
  {
   "cell_type": "code",
   "execution_count": null,
   "metadata": {},
   "outputs": [],
   "source": []
  },
  {
   "cell_type": "code",
   "execution_count": null,
   "metadata": {},
   "outputs": [],
   "source": []
  },
  {
   "cell_type": "code",
   "execution_count": null,
   "metadata": {},
   "outputs": [],
   "source": []
  },
  {
   "cell_type": "code",
   "execution_count": null,
   "metadata": {},
   "outputs": [],
   "source": []
  },
  {
   "cell_type": "code",
   "execution_count": null,
   "metadata": {},
   "outputs": [],
   "source": []
  },
  {
   "cell_type": "code",
   "execution_count": null,
   "metadata": {},
   "outputs": [],
   "source": []
  },
  {
   "cell_type": "code",
   "execution_count": null,
   "metadata": {},
   "outputs": [],
   "source": []
  },
  {
   "cell_type": "code",
   "execution_count": null,
   "metadata": {},
   "outputs": [],
   "source": []
  },
  {
   "cell_type": "code",
   "execution_count": null,
   "metadata": {},
   "outputs": [],
   "source": []
  },
  {
   "cell_type": "code",
   "execution_count": null,
   "metadata": {},
   "outputs": [],
   "source": []
  },
  {
   "cell_type": "code",
   "execution_count": null,
   "metadata": {},
   "outputs": [],
   "source": []
  }
 ],
 "metadata": {
  "kernelspec": {
   "display_name": "Python 3",
   "language": "python",
   "name": "python3"
  },
  "language_info": {
   "codemirror_mode": {
    "name": "ipython",
    "version": 3
   },
   "file_extension": ".py",
   "mimetype": "text/x-python",
   "name": "python",
   "nbconvert_exporter": "python",
   "pygments_lexer": "ipython3",
   "version": "3.7.4"
  }
 },
 "nbformat": 4,
 "nbformat_minor": 2
}
