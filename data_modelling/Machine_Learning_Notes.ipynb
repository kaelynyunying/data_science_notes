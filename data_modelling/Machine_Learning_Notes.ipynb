{
 "cells": [
  {
   "cell_type": "markdown",
   "metadata": {},
   "source": [
    "#### 1. Packages Import and Environment Set Up"
   ]
  },
  {
   "cell_type": "markdown",
   "metadata": {},
   "source": [
    "Environment Set Up:\n",
    "- pip install sklearn\n",
    "- pip install quandl\n",
    "- pip install pandas\n",
    "- pip install cvxopt"
   ]
  },
  {
   "cell_type": "code",
   "execution_count": 4,
   "metadata": {},
   "outputs": [],
   "source": [
    "import pandas as pd \n",
    "import math \n",
    "import quandl\n",
    "import numpy as np\n",
    "#from sklearn import preprocessing, cross_validation, svm\n",
    "from sklearn import preprocessing, svm\n",
    "from sklearn.model_selection import cross_validate\n",
    "from sklearn.model_selection import train_test_split\n",
    "from sklearn.linear_model import LinearRegression\n",
    "import random\n",
    "from IPython.display import Image\n",
    "from IPython.core.display import HTML \n",
    "from math import * \n",
    "from numpy import linalg\n",
    "import cvxopt\n",
    "import cvxopt.solvers\n",
    "import os"
   ]
  },
  {
   "cell_type": "markdown",
   "metadata": {},
   "source": [
    "# (A) Regression Problem"
   ]
  },
  {
   "cell_type": "markdown",
   "metadata": {},
   "source": [
    "#### a. Features and Labels"
   ]
  },
  {
   "cell_type": "code",
   "execution_count": 5,
   "metadata": {},
   "outputs": [],
   "source": [
    "# Pattern Recognition\n",
    "# Since it is a regression problem, remove variables with high correlation with each other"
   ]
  },
  {
   "cell_type": "code",
   "execution_count": 7,
   "metadata": {
    "scrolled": true
   },
   "outputs": [],
   "source": [
    "df = quandl.get(\"WIKI/GOOGL\")"
   ]
  },
  {
   "cell_type": "code",
   "execution_count": 8,
   "metadata": {},
   "outputs": [],
   "source": [
    "df = df[['Adj. Open', 'Adj. High', 'Adj. Low', 'Adj. Close', 'Adj. Volume']]\n",
    "df['HL_PCT'] = (df['Adj. High'] - df['Adj. Low']) / df['Adj. Close'] * 100.0\n",
    "df['PCT_change'] = (df['Adj. Close'] - df['Adj. Open']) / df['Adj. Open'] * 100.0"
   ]
  },
  {
   "cell_type": "code",
   "execution_count": 9,
   "metadata": {},
   "outputs": [],
   "source": [
    "df = df[['Adj. Close', 'HL_PCT', 'PCT_change', 'Adj. Volume']]\n",
    "forecast_col = 'Adj. Close'\n",
    "#missing data will be treated as outliers in the dataset \n",
    "df.fillna(value=-99999, inplace=True)\n",
    "#math.ceil will round all no to nearest whole no\n",
    "forecast_out = int(math.ceil(0.01 * len(df)))\n",
    "#label price for each row will be the adjusted close price 10 days into the future \n",
    "df['label'] = df[forecast_col].shift(-forecast_out)"
   ]
  },
  {
   "cell_type": "code",
   "execution_count": 10,
   "metadata": {},
   "outputs": [],
   "source": [
    "#drop null information from the dataframe\n",
    "df.dropna(inplace=True)"
   ]
  },
  {
   "cell_type": "code",
   "execution_count": 11,
   "metadata": {
    "scrolled": false
   },
   "outputs": [
    {
     "name": "stdout",
     "output_type": "stream",
     "text": [
      "            Adj. Close    HL_PCT  PCT_change  Adj. Volume    label\n",
      "Date                                                              \n",
      "2018-01-08     1114.21  0.822107    0.288929    1148958.0  1103.92\n",
      "2018-01-09     1112.79  0.920210   -0.505168    1335995.0  1071.41\n",
      "2018-01-10     1110.14  0.792693    0.283650    1027781.0  1084.14\n",
      "2018-01-11     1111.88  0.752779   -0.038658    1102461.0  1094.76\n",
      "2018-01-12     1130.65  2.059877    1.851185    1914460.0  1100.90\n",
      "2018-01-16     1130.70  1.965154   -0.842753    1783881.0  1115.04\n",
      "2018-01-17     1139.10  1.389694    0.241121    1353097.0  1129.38\n",
      "2018-01-18     1135.97  1.419932   -0.296660    1333633.0  1160.84\n",
      "2018-01-19     1143.50  0.986445    0.480655    1418376.0  1165.93\n",
      "2018-01-22     1164.16  2.152625    1.778252    1437954.0  1139.91\n",
      "2018-01-23     1176.17  0.957345    0.474108    1832126.0  1148.89\n",
      "2018-01-24     1171.29  1.677637   -1.155294    1818182.0  1150.61\n",
      "2018-01-25     1182.14  1.113235    0.121114    1398961.0  1134.42\n",
      "2018-01-26     1187.56  1.644548    0.002526    1981476.0  1100.07\n",
      "2018-01-29     1186.48  1.174904   -0.127946    1533931.0  1095.80\n",
      "2018-01-30     1177.37  1.139829   -0.029718    1792602.0  1094.00\n",
      "2018-01-31     1182.22  1.202822   -0.134312    1643877.0  1053.15\n",
      "2018-02-01     1181.59  1.530988    0.476195    2774967.0  1026.55\n",
      "2018-02-02     1119.20  1.798606   -0.729098    5798880.0  1054.09\n",
      "2018-02-05     1068.76  5.450241   -2.893850    3742469.0  1006.94\n"
     ]
    }
   ],
   "source": [
    "print(df.tail(20))"
   ]
  },
  {
   "cell_type": "markdown",
   "metadata": {},
   "source": [
    "#### b. Training and Testing"
   ]
  },
  {
   "cell_type": "code",
   "execution_count": 12,
   "metadata": {
    "scrolled": true
   },
   "outputs": [],
   "source": [
    "#Define Label and Features \n",
    "x = np.array(df.drop(['label'],1))\n",
    "y = np.array(df['label'])\n",
    "\n",
    "# Scale x \n",
    "# To improve accuracy, you usually wish to ensure that you scale the data to bet -1 to +1 \n",
    "X = preprocessing.scale(x)\n",
    "y = np.array(df['label'])\n",
    "\n",
    "# training set of features, testing set of features, training set of labels, and testing set of labels\n",
    "X_train, X_test, y_train, y_test = train_test_split(X, y, test_size=0.2)"
   ]
  },
  {
   "cell_type": "markdown",
   "metadata": {},
   "source": [
    "### How do we choose the right estimator? \n",
    "https://scikit-learn.org/stable/tutorial/machine_learning_map/"
   ]
  },
  {
   "cell_type": "markdown",
   "metadata": {},
   "source": [
    "### Support Vector Regression \n",
    "#### https://medium.com/coinmonks/support-vector-regression-or-svr-8eb3acf6d0ff"
   ]
  },
  {
   "cell_type": "code",
   "execution_count": 13,
   "metadata": {
    "scrolled": true
   },
   "outputs": [
    {
     "name": "stderr",
     "output_type": "stream",
     "text": [
      "/Users/user/opt/anaconda3/lib/python3.7/site-packages/sklearn/svm/base.py:193: FutureWarning: The default value of gamma will change from 'auto' to 'scale' in version 0.22 to account better for unscaled features. Set gamma explicitly to 'auto' or 'scale' to avoid this warning.\n",
      "  \"avoid this warning.\", FutureWarning)\n"
     ]
    },
    {
     "name": "stdout",
     "output_type": "stream",
     "text": [
      "0.8069270488613455\n"
     ]
    }
   ],
   "source": [
    "# Chosen Classifier: Support Vector Regression from Scikit-Learn's svm package\n",
    "# SVM Packages: https://scikit-learn.org/stable/modules/generated/sklearn.svm.SVR.html\n",
    "clf = svm.SVR()\n",
    "\n",
    "# Fit in classifier with the features and labels\n",
    "clf.fit(X_train, y_train)\n",
    "\n",
    "# Test the classifer by finding the confidence\n",
    "confidence = clf.score(X_test, y_test)\n",
    "print(confidence)"
   ]
  },
  {
   "cell_type": "markdown",
   "metadata": {},
   "source": [
    "### Linear Regression"
   ]
  },
  {
   "cell_type": "code",
   "execution_count": 14,
   "metadata": {
    "scrolled": true
   },
   "outputs": [
    {
     "name": "stdout",
     "output_type": "stream",
     "text": [
      "linear 0.9745320492827182\n"
     ]
    },
    {
     "name": "stderr",
     "output_type": "stream",
     "text": [
      "/Users/user/opt/anaconda3/lib/python3.7/site-packages/sklearn/svm/base.py:193: FutureWarning: The default value of gamma will change from 'auto' to 'scale' in version 0.22 to account better for unscaled features. Set gamma explicitly to 'auto' or 'scale' to avoid this warning.\n",
      "  \"avoid this warning.\", FutureWarning)\n"
     ]
    },
    {
     "name": "stdout",
     "output_type": "stream",
     "text": [
      "poly 0.6558130726689052\n"
     ]
    },
    {
     "name": "stderr",
     "output_type": "stream",
     "text": [
      "/Users/user/opt/anaconda3/lib/python3.7/site-packages/sklearn/svm/base.py:193: FutureWarning: The default value of gamma will change from 'auto' to 'scale' in version 0.22 to account better for unscaled features. Set gamma explicitly to 'auto' or 'scale' to avoid this warning.\n",
      "  \"avoid this warning.\", FutureWarning)\n"
     ]
    },
    {
     "name": "stdout",
     "output_type": "stream",
     "text": [
      "rbf 0.8069270488613455\n"
     ]
    },
    {
     "name": "stderr",
     "output_type": "stream",
     "text": [
      "/Users/user/opt/anaconda3/lib/python3.7/site-packages/sklearn/svm/base.py:193: FutureWarning: The default value of gamma will change from 'auto' to 'scale' in version 0.22 to account better for unscaled features. Set gamma explicitly to 'auto' or 'scale' to avoid this warning.\n",
      "  \"avoid this warning.\", FutureWarning)\n"
     ]
    },
    {
     "name": "stdout",
     "output_type": "stream",
     "text": [
      "sigmoid 0.8948138861773418\n"
     ]
    }
   ],
   "source": [
    "clf = LinearRegression()\n",
    "clf = LinearRegression(n_jobs=-1)  #Choose all available threads\n",
    "\n",
    "# Try out different combination of kernel to transform against the data (i.e. grossly simplify the data)\n",
    "for k in ['linear','poly','rbf','sigmoid']:\n",
    "    clf = svm.SVR(kernel=k)\n",
    "    clf.fit(X_train, y_train)\n",
    "    confidence = clf.score(X_test, y_test)\n",
    "    print(k,confidence)"
   ]
  },
  {
   "cell_type": "markdown",
   "metadata": {},
   "source": [
    "Possible for Threading: n_jobs, you have an algorithm that can be threaded for high performance\n",
    "Impossible for Threading: lack of n_jobs\n",
    "\n",
    "- if you are processing massive amounts of data, or you need to process medium data but at a very high rate of speed, then you would want something threaded. "
   ]
  },
  {
   "cell_type": "code",
   "execution_count": 15,
   "metadata": {},
   "outputs": [
    {
     "name": "stdout",
     "output_type": "stream",
     "text": [
      "0.9758165722735883\n"
     ]
    }
   ],
   "source": [
    "# Final Chosen Classifier\n",
    "clf = LinearRegression(n_jobs=-1)\n",
    "clf.fit(X_train, y_train)\n",
    "confidence = clf.score(X_test, y_test)\n",
    "print(confidence)"
   ]
  },
  {
   "cell_type": "markdown",
   "metadata": {},
   "source": [
    "#### c. Forecasting and Predicting"
   ]
  },
  {
   "cell_type": "code",
   "execution_count": 16,
   "metadata": {},
   "outputs": [],
   "source": [
    "X = np.array(df.drop(['label'], 1))\n",
    "X = preprocessing.scale(X)\n",
    "# X_lately will only containt the most reent features which will be predicted against\n",
    "X_lately = X[-forecast_out:]\n",
    "X = X[:-forecast_out]"
   ]
  },
  {
   "cell_type": "code",
   "execution_count": 17,
   "metadata": {},
   "outputs": [
    {
     "name": "stdout",
     "output_type": "stream",
     "text": [
      "0.9745704042372949\n"
     ]
    }
   ],
   "source": [
    "df.dropna(inplace=True)\n",
    "y_working = df['label']\n",
    "y_working_final = y_working.iloc[:3354]\n",
    "y = np.array(y_working_final)\n",
    "X_train, X_test, y_train, y_test = train_test_split(X, y, test_size=0.2)\n",
    "clf = LinearRegression(n_jobs=-1)\n",
    "clf.fit(X_train, y_train)\n",
    "confidence = clf.score(X_test, y_test)\n",
    "print(confidence)"
   ]
  },
  {
   "cell_type": "code",
   "execution_count": 18,
   "metadata": {
    "scrolled": true
   },
   "outputs": [],
   "source": [
    "forecast_set = clf.predict(X_lately)"
   ]
  },
  {
   "cell_type": "code",
   "execution_count": 19,
   "metadata": {},
   "outputs": [
    {
     "name": "stdout",
     "output_type": "stream",
     "text": [
      "[1081.51001601 1096.18317166 1109.75840185 1104.07641708 1097.53975104\n",
      " 1095.21401904 1093.69567131 1090.1493537  1084.23654204 1079.8205884\n",
      " 1077.78669695 1097.74915417 1116.27850466 1120.6073125  1135.58961913\n",
      " 1139.64601015 1137.71469602 1135.54754127 1137.17481588 1156.1185761\n",
      " 1154.95603529 1164.50261714 1161.04201992 1169.360704   1190.1857342\n",
      " 1202.52400027 1196.27567266 1208.3970943  1213.37404164 1212.62211275\n",
      " 1203.38130051 1208.24693948 1207.46265326 1142.68172249 1088.18979578] 0.9745704042372949 35\n"
     ]
    }
   ],
   "source": [
    "print(forecast_set, confidence, forecast_out)"
   ]
  },
  {
   "cell_type": "code",
   "execution_count": 20,
   "metadata": {},
   "outputs": [],
   "source": [
    "# Visualizting the Forecast \n",
    "import datetime\n",
    "import matplotlib.pyplot as plt\n",
    "from matplotlib import style\n",
    "style.use('ggplot')\n",
    "\n",
    "# Add a new Forecast Column\n",
    "df['Forecast'] = np.nan # set to NAN first then populate shortly \n",
    "last_date = df.iloc[-1].name\n",
    "last_unix = last_date.timestamp()\n",
    "one_day = 86400\n",
    "next_unix = last_unix + one_day\n",
    "\n",
    "for i in forecast_set:\n",
    "    next_date = datetime.datetime.fromtimestamp(next_unix)\n",
    "    next_unix += 86400\n",
    "    df.loc[next_date] = [np.nan for _ in range(len(df.columns)-1)]+[i]"
   ]
  },
  {
   "cell_type": "code",
   "execution_count": 21,
   "metadata": {},
   "outputs": [
    {
     "data": {
      "image/png": "[encoded data removed]",
      "text/plain": [
       "<Figure size 432x288 with 1 Axes>"
      ]
     },
     "metadata": {
      "needs_background": "light"
     },
     "output_type": "display_data"
    }
   ],
   "source": [
    "df['Adj. Close'].plot()\n",
    "df['Forecast'].plot()\n",
    "plt.legend(loc=4)\n",
    "plt.xlabel('Date')\n",
    "plt.ylabel('Price')\n",
    "plt.show()"
   ]
  },
  {
   "cell_type": "markdown",
   "metadata": {},
   "source": [
    "#### d. Pickling and Scaling "
   ]
  },
  {
   "cell_type": "markdown",
   "metadata": {},
   "source": [
    "### Importance of Pickling:\n",
    "- While our machine learning classifier takes a few seconds to train, there may be cases where it takes hours or even days to train a classifier. Imagine needing to do that every day you wanted to forecast prices, or whatever. This is not necessary, as we can just save the classifier using the Pickle module."
   ]
  },
  {
   "cell_type": "code",
   "execution_count": 22,
   "metadata": {},
   "outputs": [],
   "source": [
    "import pickle"
   ]
  },
  {
   "cell_type": "code",
   "execution_count": 23,
   "metadata": {},
   "outputs": [],
   "source": [
    "# you can save any python object (like classifier) with pickle, do pickling after defining, training and testing the classifier\n",
    "\n",
    "with open('linearregression.pickle','wb') as f:\n",
    "    pickle.dump(clf, f)"
   ]
  },
  {
   "cell_type": "code",
   "execution_count": 24,
   "metadata": {},
   "outputs": [],
   "source": [
    "pickle_in = open('linearregression.pickle','rb')\n",
    "clf = pickle.load(pickle_in)"
   ]
  },
  {
   "cell_type": "code",
   "execution_count": 25,
   "metadata": {},
   "outputs": [
    {
     "data": {
      "image/png": "[encoded data removed]",
      "text/plain": [
       "<Figure size 432x288 with 1 Axes>"
      ]
     },
     "metadata": {
      "needs_background": "light"
     },
     "output_type": "display_data"
    }
   ],
   "source": [
    "# Revamped Code if you consider the method of pickling \n",
    "X_train, X_test, y_train, y_test = train_test_split(X, y, test_size=0.2)\n",
    "#COMMENTED OUT:\n",
    "##clf = svm.SVR(kernel='linear')\n",
    "##clf.fit(X_train, y_train)\n",
    "##confidence = clf.score(X_test, y_test)\n",
    "##print(confidence)\n",
    "pickle_in = open('linearregression.pickle','rb')\n",
    "clf = pickle.load(pickle_in)\n",
    "\n",
    "\n",
    "forecast_set = clf.predict(X_lately)\n",
    "df['Forecast'] = np.nan\n",
    "\n",
    "last_date = df.iloc[-1].name\n",
    "last_unix = last_date.timestamp()\n",
    "one_day = 86400\n",
    "next_unix = last_unix + one_day\n",
    "\n",
    "for i in forecast_set:\n",
    "    next_date = datetime.datetime.fromtimestamp(next_unix)\n",
    "    next_unix += 86400\n",
    "    df.loc[next_date] = [np.nan for _ in range(len(df.columns)-1)]+[i]\n",
    "df['Adj. Close'].plot()\n",
    "df['Forecast'].plot()\n",
    "plt.legend(loc=4)\n",
    "plt.xlabel('Date')\n",
    "plt.ylabel('Price')\n",
    "plt.show()"
   ]
  },
  {
   "cell_type": "markdown",
   "metadata": {},
   "source": [
    "#### e. Regression Line"
   ]
  },
  {
   "cell_type": "markdown",
   "metadata": {},
   "source": [
    "##### (a) Lets calculate gradient m first"
   ]
  },
  {
   "cell_type": "code",
   "execution_count": 26,
   "metadata": {},
   "outputs": [
    {
     "data": {
      "text/html": [
       "<img src=\"https://pythonprogramming.net/static/images/machine-learning/best-fit-slope.png\" width=\"300\" height=\"300\"/>"
      ],
      "text/plain": [
       "<IPython.core.display.Image object>"
      ]
     },
     "execution_count": 26,
     "metadata": {},
     "output_type": "execute_result"
    }
   ],
   "source": [
    "\n",
    "\n",
    "# Formula to Calculating m (gradient) for the best fit line\n",
    "Image(url= \"https://pythonprogramming.net/static/images/machine-learning/best-fit-slope.png\", width=300, height=300)"
   ]
  },
  {
   "cell_type": "code",
   "execution_count": 27,
   "metadata": {},
   "outputs": [],
   "source": [
    "from statistics import mean\n",
    "import numpy as np"
   ]
  },
  {
   "cell_type": "markdown",
   "metadata": {},
   "source": [
    "##### Order of Operation in Python: PEMDAS\n",
    "\n",
    "- P --> Parentheses first\n",
    "- E --> Exponents (ie Powers and Square Roots, etc.)\n",
    "- MD --> Multiplication and Division (left-to-right)\n",
    "- AS --> Addition and Subtraction (left-to-right)"
   ]
  },
  {
   "cell_type": "code",
   "execution_count": 28,
   "metadata": {},
   "outputs": [
    {
     "name": "stdout",
     "output_type": "stream",
     "text": [
      "0.29999999999999893\n"
     ]
    }
   ],
   "source": [
    "# Using Numpy Arrays so that we can perform matrix operations later\n",
    "xs = np.array([1,2,3,4,5], dtype=np.float64)\n",
    "ys = np.array([5,4,6,5,6], dtype=np.float64)\n",
    "\n",
    "def best_fit_slope(xs,ys):\n",
    "    m = (((mean(xs)*mean(ys)) - mean(xs*ys)) /\n",
    "         ((mean(xs)**2) - mean(xs**2)))\n",
    "    return m\n",
    "\n",
    "m = best_fit_slope(xs,ys)\n",
    "print(m)"
   ]
  },
  {
   "cell_type": "code",
   "execution_count": 29,
   "metadata": {},
   "outputs": [
    {
     "name": "stdout",
     "output_type": "stream",
     "text": [
      "0.29999999999999893 4.300000000000003\n"
     ]
    }
   ],
   "source": [
    "def best_fit_slope_and_intercept(xs,ys):\n",
    "    m = (((mean(xs)*mean(ys)) - mean(xs*ys)) /\n",
    "         ((mean(xs)*mean(xs)) - mean(xs*xs)))\n",
    "    \n",
    "    b = mean(ys) - m*mean(xs)\n",
    "    \n",
    "    return m, b\n",
    "\n",
    "m, b = best_fit_slope_and_intercept(xs,ys)\n",
    "\n",
    "print(m,b)"
   ]
  },
  {
   "cell_type": "markdown",
   "metadata": {},
   "source": [
    "##### (b) Let's calculate intercept b next "
   ]
  },
  {
   "cell_type": "code",
   "execution_count": 30,
   "metadata": {},
   "outputs": [
    {
     "data": {
      "text/html": [
       "<img src=\"https://pythonprogramming.net/static/images/machine-learning/best-fit-y-intercept.png\" width=\"300\" height=\"300\"/>"
      ],
      "text/plain": [
       "<IPython.core.display.Image object>"
      ]
     },
     "execution_count": 30,
     "metadata": {},
     "output_type": "execute_result"
    }
   ],
   "source": [
    "# Formula to Calculating m (gradient) for the best fit line\n",
    "Image(url= \"https://pythonprogramming.net/static/images/machine-learning/best-fit-y-intercept.png\", width=300, height=300)"
   ]
  },
  {
   "cell_type": "code",
   "execution_count": 31,
   "metadata": {},
   "outputs": [],
   "source": [
    "# Calculate the regression line \n",
    "# METHOD ONE\n",
    "regression_line = [(m*x)+b for x in xs]\n",
    "\n",
    "# METHOD TWO \n",
    "regression_line = []\n",
    "for x in xs:\n",
    "    regression_line.append((m*x)+b)"
   ]
  },
  {
   "cell_type": "code",
   "execution_count": 32,
   "metadata": {},
   "outputs": [
    {
     "data": {
      "image/png": "[encoded data removed]",
      "text/plain": [
       "<Figure size 432x288 with 1 Axes>"
      ]
     },
     "metadata": {},
     "output_type": "display_data"
    }
   ],
   "source": [
    "# PLOTTING THE BEST FIT LINE\n",
    "import matplotlib.pyplot as plt\n",
    "from matplotlib import style\n",
    "style.use('ggplot')\n",
    "plt.scatter(xs,ys,color='#003F72')\n",
    "plt.plot(xs, regression_line)\n",
    "plt.show()"
   ]
  },
  {
   "cell_type": "code",
   "execution_count": 33,
   "metadata": {},
   "outputs": [
    {
     "data": {
      "image/png": "[encoded data removed]",
      "text/plain": [
       "<Figure size 432x288 with 1 Axes>"
      ]
     },
     "metadata": {},
     "output_type": "display_data"
    }
   ],
   "source": [
    "# Plotting the Best Fit Line together with Prediction Point\n",
    "predict_x = 7\n",
    "predict_y = (m*predict_x)+b\n",
    "\n",
    "plt.scatter(predict_x, predict_y,color='g',label='prediction')\n",
    "plt.scatter(xs,ys,color='#003F72')\n",
    "plt.plot(xs, regression_line, label='regression line')\n",
    "plt.legend(loc=4)\n",
    "plt.show()"
   ]
  },
  {
   "cell_type": "markdown",
   "metadata": {},
   "source": [
    "#### f. Regression - R Squared and Coefficient of Determination Theory"
   ]
  },
  {
   "cell_type": "markdown",
   "metadata": {},
   "source": [
    "#### (a) Sqaured Errors"
   ]
  },
  {
   "cell_type": "markdown",
   "metadata": {},
   "source": [
    "- The standard way to check for errors is by using squared errors aka r squared or the coefficient of determination\n",
    "- Definition: The distance between the regression line's y values, and the data's y values is the error, then we square that. The line's squared error is either a mean or a sum of this, we'll simply sum it."
   ]
  },
  {
   "cell_type": "code",
   "execution_count": 34,
   "metadata": {},
   "outputs": [
    {
     "data": {
      "text/html": [
       "<img src=\"https://pythonprogramming.net/static/images/machine-learning/squared-error-visual.png\" width=\"300\" height=\"300\"/>"
      ],
      "text/plain": [
       "<IPython.core.display.Image object>"
      ]
     },
     "execution_count": 34,
     "metadata": {},
     "output_type": "execute_result"
    }
   ],
   "source": [
    "# Illustration for r squared errors\n",
    "Image(url= \"https://pythonprogramming.net/static/images/machine-learning/squared-error-visual.png\", width=300, height=300)"
   ]
  },
  {
   "cell_type": "markdown",
   "metadata": {},
   "source": [
    "- Note that for best fit line approach, we are actually assuming it fulfill the idea for least squared errors\n",
    "- Our best-fit line equation is the result of a proof that is used to discover the calculation for the best-fit regression line, where the regression line is the line that has the least squared error. "
   ]
  },
  {
   "cell_type": "markdown",
   "metadata": {},
   "source": [
    "###### Rationale for using Best Fit Line Approach \n",
    "- First, we want a way to normalize the error as a distance, so the error might be -5, but, when squared, that's a positive number. Another reason is to further punish for outliers. "
   ]
  },
  {
   "cell_type": "markdown",
   "metadata": {},
   "source": [
    "#### (b) Coefficient of Determination Theory or R Squared"
   ]
  },
  {
   "cell_type": "code",
   "execution_count": 35,
   "metadata": {},
   "outputs": [
    {
     "data": {
      "text/html": [
       "<img src=\"https://pythonprogramming.net/static/images/machine-learning/coefficient-of-determination-r-squared.png\" width=\"300\" height=\"300\"/>"
      ],
      "text/plain": [
       "<IPython.core.display.Image object>"
      ]
     },
     "execution_count": 35,
     "metadata": {},
     "output_type": "execute_result"
    }
   ],
   "source": [
    "Image(url= \"https://pythonprogramming.net/static/images/machine-learning/coefficient-of-determination-r-squared.png\", width=300, height=300)"
   ]
  },
  {
   "cell_type": "markdown",
   "metadata": {},
   "source": [
    "The equation is essentially 1 minus the division of the squared error of the regression line and the squared error of the mean y line. The mean y line is quite literally the mean of all of the y values from the dataset. If you were to graph it, then it would be a flat, horizontal, line. Thus, we do the squared error of the average y, and of the regression line. The objective here is to discern how much of the error is actually just simply a result in variation in the data features, as opposed to being a result of the regression line being a poor fit.\n",
    "- The higher the R value, the better the regression line"
   ]
  },
  {
   "cell_type": "code",
   "execution_count": 36,
   "metadata": {},
   "outputs": [],
   "source": [
    "def squared_error(ys_orig,ys_line):\n",
    "    return sum((ys_line - ys_orig) * (ys_line - ys_orig))"
   ]
  },
  {
   "cell_type": "code",
   "execution_count": 37,
   "metadata": {},
   "outputs": [],
   "source": [
    "def coefficient_of_determination(ys_orig,ys_line):\n",
    "    y_mean_line = [mean(ys_orig) for y in ys_orig]\n",
    "    squared_error_regr = squared_error(ys_orig, ys_line)\n",
    "    squared_error_y_mean = squared_error(ys_orig, y_mean_line)\n",
    "    return 1 - (squared_error_regr/squared_error_y_mean)"
   ]
  },
  {
   "cell_type": "code",
   "execution_count": 38,
   "metadata": {},
   "outputs": [
    {
     "name": "stdout",
     "output_type": "stream",
     "text": [
      "0.3214285714285714\n"
     ]
    }
   ],
   "source": [
    "r_squared = coefficient_of_determination(ys,regression_line)\n",
    "print(r_squared)"
   ]
  },
  {
   "cell_type": "markdown",
   "metadata": {},
   "source": [
    "In most cases, if you care about predicting exact future values, r squared is indeed very useful. If you're interested in predicting motion/direction, then our best fit line is actually pretty good so far, and r squared shouldn't carry as much weight. "
   ]
  },
  {
   "cell_type": "markdown",
   "metadata": {},
   "source": [
    "**Analysis:**\n",
    "- The coefficient of determination value is low as the variation in y was very large"
   ]
  },
  {
   "cell_type": "markdown",
   "metadata": {},
   "source": [
    "#### g. Regression - Creating Sample Data for Testing"
   ]
  },
  {
   "cell_type": "markdown",
   "metadata": {},
   "source": [
    "**Parameter Definition**\n",
    "\n",
    "**hm** - The value will be \"how much.\" This is how many datapoints that we want in the set. We could choose to have 10, or 10 million, for example.\n",
    "\n",
    "**variance** - This will dictate how much each point can vary from the previous point. The more variance, the less-tight the data will be.\n",
    "\n",
    "**step** - This will be how far to step on average per point, defaulting to 2.\n",
    "\n",
    "**correlation** - This will be either False, pos, or neg to indicate that we want no correlation, positive correlation, or negative correlation."
   ]
  },
  {
   "cell_type": "code",
   "execution_count": 39,
   "metadata": {},
   "outputs": [],
   "source": [
    "\n",
    "def create_dataset(hm, variance, step=2, correlation=False):\n",
    "    val = 1\n",
    "    ys = []\n",
    "    for i in range(hm):\n",
    "        y = val + random.randrange(-variance,variance)\n",
    "        ys.append(y)\n",
    "        if correlation and correlation == 'pos':\n",
    "            val+=step\n",
    "        elif correlation and correlation == 'neg':\n",
    "            val-=step\n",
    "            \n",
    "    xs = [i for i in range(len(ys))]\n",
    "    \n",
    "    return np.array(xs, dtype=np.float64),np.array(ys, dtype=np.float64)"
   ]
  },
  {
   "cell_type": "code",
   "execution_count": 40,
   "metadata": {
    "scrolled": true
   },
   "outputs": [],
   "source": [
    "xs, ys = create_dataset(40,40,2,correlation='pos')"
   ]
  },
  {
   "cell_type": "code",
   "execution_count": 41,
   "metadata": {},
   "outputs": [
    {
     "data": {
      "text/plain": [
       "(array([ 0.,  1.,  2.,  3.,  4.,  5.,  6.,  7.,  8.,  9., 10., 11., 12.,\n",
       "        13., 14., 15., 16., 17., 18., 19., 20., 21., 22., 23., 24., 25.,\n",
       "        26., 27., 28., 29., 30., 31., 32., 33., 34., 35., 36., 37., 38.,\n",
       "        39.]),\n",
       " array([ 22., -35., -31., -22.,  -1., -19., -26.,  -3., -10.,  -9.,  15.,\n",
       "         47.,  10.,  28., -11.,  19.,  71.,  52.,  75.,  53.,  20.,  27.,\n",
       "         69.,  13.,  18.,  27.,  66.,  26.,  23.,  57.,  52.,  37.,  55.,\n",
       "        101.,  56.,  59.,  63.,  70.,  48.,  45.]))"
      ]
     },
     "execution_count": 41,
     "metadata": {},
     "output_type": "execute_result"
    }
   ],
   "source": [
    "xs,ys"
   ]
  },
  {
   "cell_type": "markdown",
   "metadata": {},
   "source": [
    "### Combined Code till now "
   ]
  },
  {
   "cell_type": "code",
   "execution_count": 42,
   "metadata": {},
   "outputs": [
    {
     "name": "stdout",
     "output_type": "stream",
     "text": [
      "1294.1348030018764\n",
      "1295.7750000000003\n",
      "0.001265803861105419\n"
     ]
    },
    {
     "data": {
      "image/png": "[encoded data removed]",
      "text/plain": [
       "<Figure size 432x288 with 1 Axes>"
      ]
     },
     "metadata": {},
     "output_type": "display_data"
    }
   ],
   "source": [
    "from statistics import mean\n",
    "import numpy as np\n",
    "import random\n",
    "import matplotlib.pyplot as plt\n",
    "from matplotlib import style\n",
    "style.use('ggplot')\n",
    "\n",
    "\n",
    "def create_dataset(hm,variance,step=2,correlation=False):\n",
    "    val = 1\n",
    "    ys = []\n",
    "    for i in range(hm):\n",
    "        y = val + random.randrange(-variance,variance)\n",
    "        ys.append(y)\n",
    "        if correlation and correlation == 'pos':\n",
    "            val+=step\n",
    "        elif correlation and correlation == 'neg':\n",
    "            val-=step\n",
    "\n",
    "    xs = [i for i in range(len(ys))]\n",
    "    \n",
    "    return np.array(xs, dtype=np.float64),np.array(ys,dtype=np.float64)\n",
    "\n",
    "def best_fit_slope_and_intercept(xs,ys):\n",
    "    m = (((mean(xs)*mean(ys)) - mean(xs*ys)) /\n",
    "         ((mean(xs)*mean(xs)) - mean(xs*xs)))\n",
    "    \n",
    "    b = mean(ys) - m*mean(xs)\n",
    "\n",
    "    return m, b\n",
    "\n",
    "\n",
    "def coefficient_of_determination(ys_orig,ys_line):\n",
    "    y_mean_line = [mean(ys_orig) for y in ys_orig]\n",
    "\n",
    "    squared_error_regr = sum((ys_line - ys_orig) * (ys_line - ys_orig))\n",
    "    squared_error_y_mean = sum((y_mean_line - ys_orig) * (y_mean_line - ys_orig))\n",
    "\n",
    "    print(squared_error_regr)\n",
    "    print(squared_error_y_mean)\n",
    "\n",
    "    r_squared = 1 - (squared_error_regr/squared_error_y_mean)\n",
    "\n",
    "    return r_squared\n",
    "\n",
    "\n",
    "xs, ys = create_dataset(40,10,2,correlation=False)\n",
    "m, b = best_fit_slope_and_intercept(xs,ys)\n",
    "regression_line = [(m*x)+b for x in xs]\n",
    "r_squared = coefficient_of_determination(ys,regression_line)\n",
    "print(r_squared)\n",
    "\n",
    "plt.scatter(xs,ys,color='#003F72', label = 'data')\n",
    "plt.plot(xs, regression_line, label = 'regression line')\n",
    "plt.legend(loc=4)\n",
    "plt.show()"
   ]
  },
  {
   "cell_type": "code",
   "execution_count": 43,
   "metadata": {},
   "outputs": [],
   "source": [
    "# Test the above chunk of code by making the following changes\n",
    "xs, ys = create_dataset(40,10,2,correlation='pos')\n",
    "xs, ys = create_dataset(40,10,2,correlation='neg')\n",
    "xs, ys = create_dataset(40,10,2,correlation=False)"
   ]
  },
  {
   "cell_type": "markdown",
   "metadata": {},
   "source": [
    "#### Conclusion from the above analysis\n",
    "- Less variance should result in higher r-squared/coefficient of determination, higher variance = lower r squared. What about no correlation? This should be even lower, and actually quite close to zero, unless we get a crazy random permutation that actually has correlation anyway\n"
   ]
  },
  {
   "cell_type": "markdown",
   "metadata": {},
   "source": [
    "# (B) Classification Problem"
   ]
  },
  {
   "cell_type": "markdown",
   "metadata": {},
   "source": [
    "#### Two Major Classification Algorithms: K Nearest Neighbours and Support Vector Machine \n",
    "- Supervised Learning\n",
    "- Have prior-labeled data for training"
   ]
  },
  {
   "cell_type": "markdown",
   "metadata": {},
   "source": [
    "### (a) K Nearest Neighbors"
   ]
  },
  {
   "cell_type": "markdown",
   "metadata": {},
   "source": [
    "- Simple and effective machine learning classification algorithm\n",
    "- K refers to the number you can choose\n",
    "- Neighbors are data points from known data \n",
    "- Due to the nature of the vote, likely that you want an odd number for K, otherwiese will be 50/50 split situation\n",
    "- if you wanna have even no for K, then apply wieghts to the distance to penalize for greater distances"
   ]
  },
  {
   "cell_type": "markdown",
   "metadata": {},
   "source": [
    "##### Scikit-learn Algorithm for K Nearest Neighbors for Breast Cancer Data"
   ]
  },
  {
   "cell_type": "code",
   "execution_count": 44,
   "metadata": {},
   "outputs": [],
   "source": [
    "# Inepsect Missing and Bad Data\n",
    "import numpy as np\n",
    "from sklearn.model_selection import cross_validate\n",
    "from sklearn import preprocessing, neighbors\n",
    "import pandas as pd\n",
    "import os"
   ]
  },
  {
   "cell_type": "code",
   "execution_count": 65,
   "metadata": {},
   "outputs": [
    {
     "data": {
      "text/plain": [
       "'/Users/user/Documents/GitHub/data_science_learning_journey/programming_notes/data'"
      ]
     },
     "execution_count": 65,
     "metadata": {},
     "output_type": "execute_result"
    }
   ],
   "source": [
    "# check current directory \n",
    "os.getcwd() "
   ]
  },
  {
   "cell_type": "code",
   "execution_count": 66,
   "metadata": {},
   "outputs": [],
   "source": [
    "os.chdir(r'/Users/user/Documents/GitHub/data_science_learning_journey/programming_notes/data')"
   ]
  },
  {
   "cell_type": "code",
   "execution_count": 76,
   "metadata": {
    "scrolled": true
   },
   "outputs": [],
   "source": [
    "df = pd.read_csv('breast-cancer-wisconsin.data')\n",
    "# Fill in missing values with extreme data\n",
    "df.replace('?',-99999, inplace=True)\n",
    "# Drop id column as it is not very effective for classifying (i.e. meaningless)\n",
    "df.drop(['id_no'], 1, inplace=True)"
   ]
  },
  {
   "cell_type": "code",
   "execution_count": 77,
   "metadata": {
    "scrolled": false
   },
   "outputs": [
    {
     "data": {
      "text/plain": [
       "clump_thickness         0\n",
       "uniform_cell_size       0\n",
       "uniform_cell_shape      0\n",
       "marginal_adhesion       0\n",
       "single_epi_cell_size    0\n",
       "bare_nuclei             0\n",
       "bland_chromation        0\n",
       "normal_nucleoli         0\n",
       "mitoses                 0\n",
       "class                   0\n",
       "dtype: int64"
      ]
     },
     "execution_count": 77,
     "metadata": {},
     "output_type": "execute_result"
    }
   ],
   "source": [
    "df.isnull().sum()"
   ]
  },
  {
   "cell_type": "code",
   "execution_count": 78,
   "metadata": {},
   "outputs": [],
   "source": [
    "# Define Features X and Label Y \n",
    "X = np.array(df.drop(['class'],1))\n",
    "y = np.array(df['class'])"
   ]
  },
  {
   "cell_type": "code",
   "execution_count": 79,
   "metadata": {
    "scrolled": true
   },
   "outputs": [],
   "source": [
    "# Create Training and Testing Samples\n",
    "X_train, X_test, y_train, y_test = train_test_split(X, y, test_size=0.2)"
   ]
  },
  {
   "cell_type": "code",
   "execution_count": 80,
   "metadata": {},
   "outputs": [],
   "source": [
    "# Define the classifier \n",
    "clf = neighbors.KNeighborsClassifier()"
   ]
  },
  {
   "cell_type": "markdown",
   "metadata": {},
   "source": [
    "Link for classifier: https://scikit-learn.org/stable/modules/generated/sklearn.neighbors.KNeighborsClassifier.html#sklearn.neighbors.KNeighborsClassifier"
   ]
  },
  {
   "cell_type": "code",
   "execution_count": 81,
   "metadata": {},
   "outputs": [
    {
     "data": {
      "text/plain": [
       "KNeighborsClassifier(algorithm='auto', leaf_size=30, metric='minkowski',\n",
       "                     metric_params=None, n_jobs=None, n_neighbors=5, p=2,\n",
       "                     weights='uniform')"
      ]
     },
     "execution_count": 81,
     "metadata": {},
     "output_type": "execute_result"
    }
   ],
   "source": [
    "# Train classifier \n",
    "clf.fit(X_train, y_train)"
   ]
  },
  {
   "cell_type": "code",
   "execution_count": 83,
   "metadata": {},
   "outputs": [
    {
     "name": "stdout",
     "output_type": "stream",
     "text": [
      "0.9642857142857143\n"
     ]
    }
   ],
   "source": [
    "# Test and Find the Accuracy\n",
    "accuracy = clf.score(X_test, y_test)\n",
    "print(accuracy)"
   ]
  },
  {
   "cell_type": "code",
   "execution_count": 84,
   "metadata": {},
   "outputs": [
    {
     "name": "stdout",
     "output_type": "stream",
     "text": [
      "[2]\n"
     ]
    }
   ],
   "source": [
    "example_measures = np.array([4,2,1,1,1,2,3,2,1])\n",
    "example_measures = example_measures.reshape(1, -1)\n",
    "prediction = clf.predict(example_measures)\n",
    "print(prediction)"
   ]
  },
  {
   "cell_type": "code",
   "execution_count": 85,
   "metadata": {},
   "outputs": [
    {
     "name": "stdout",
     "output_type": "stream",
     "text": [
      "[2 2]\n"
     ]
    }
   ],
   "source": [
    "# When we have multiple samples\n",
    "example_measures = np.array([[4,2,1,1,1,2,3,2,1],[4,2,1,1,1,2,3,2,1]])\n",
    "example_measures = example_measures.reshape(len(example_measures), -1)\n",
    "prediction = clf.predict(example_measures)\n",
    "print(prediction)"
   ]
  },
  {
   "cell_type": "markdown",
   "metadata": {},
   "source": [
    "#### Euclidean Distance Theory"
   ]
  },
  {
   "cell_type": "markdown",
   "metadata": {},
   "source": [
    "- K Nearest Neighbors boils down to promixity, not by group, but by individual points\n",
    "- What the algo does is to compute distance bet points, then pick the most popular class of the top K classes of pts nearest to it\n",
    "- Most of the distance calculation is based on Euclidean Distance (named after Euclid, a famous mathematician)"
   ]
  },
  {
   "cell_type": "code",
   "execution_count": 86,
   "metadata": {},
   "outputs": [
    {
     "data": {
      "text/html": [
       "<img src=\"https://pythonprogramming.net/static/images/machine-learning/euclidean-distance.png\" width=\"300\" height=\"300\"/>"
      ],
      "text/plain": [
       "<IPython.core.display.Image object>"
      ]
     },
     "execution_count": 86,
     "metadata": {},
     "output_type": "execute_result"
    }
   ],
   "source": [
    "# Formula of Euclidean Distance\n",
    "Image(url= \"https://pythonprogramming.net/static/images/machine-learning/euclidean-distance.png\", width=300, height=300)"
   ]
  },
  {
   "cell_type": "markdown",
   "metadata": {},
   "source": [
    "- square root of the sum of the distance of the points from each other, sqaured "
   ]
  },
  {
   "cell_type": "code",
   "execution_count": 87,
   "metadata": {},
   "outputs": [],
   "source": [
    "plot1 = [1,3]\n",
    "plot2 = [2,5]\n",
    "euclidean_distance = sqrt( (plot1[0]-plot2[0])**2 + (plot1[1]-plot2[1])**2 )"
   ]
  },
  {
   "cell_type": "code",
   "execution_count": 88,
   "metadata": {},
   "outputs": [
    {
     "data": {
      "text/plain": [
       "2.23606797749979"
      ]
     },
     "execution_count": 88,
     "metadata": {},
     "output_type": "execute_result"
    }
   ],
   "source": [
    "euclidean_distance"
   ]
  },
  {
   "cell_type": "markdown",
   "metadata": {},
   "source": [
    "#### Creating K Nearest Neighbors Classifier From Scratch"
   ]
  },
  {
   "cell_type": "code",
   "execution_count": 89,
   "metadata": {},
   "outputs": [],
   "source": [
    "# Environmental Set Up for Visualization\n",
    "import numpy as np\n",
    "import matplotlib.pyplot as plt\n",
    "from matplotlib import style\n",
    "import warnings\n",
    "from math import sqrt\n",
    "from collections import Counter\n",
    "style.use('fivethirtyeight')"
   ]
  },
  {
   "cell_type": "markdown",
   "metadata": {},
   "source": [
    "- Use warnings to avoid using a lower K value than we have groups\n",
    "- Math for square root functiojnality \n",
    "- Counter from collections to get the most popular votes\n",
    "- Note: Scikit-Learn require you to use numbers, but you do not inherently actually need to use numbers for your classes wiht a K Nearest Neighbors classifier"
   ]
  },
  {
   "cell_type": "code",
   "execution_count": 90,
   "metadata": {},
   "outputs": [],
   "source": [
    "dataset = {'k':[[1,2],[2,3],[3,1]], 'r':[[6,5],[7,7],[8,6]]}\n",
    "new_features = [5,7]"
   ]
  },
  {
   "cell_type": "code",
   "execution_count": 91,
   "metadata": {},
   "outputs": [
    {
     "data": {
      "image/png": "[encoded data removed]",
      "text/plain": [
       "<Figure size 432x288 with 1 Axes>"
      ]
     },
     "metadata": {},
     "output_type": "display_data"
    }
   ],
   "source": [
    "# Plotting the points inside the dataset before Classification\n",
    "\n",
    "[[plt.scatter(ii[0],ii[1],s=100,color=i) for ii in dataset[i]] for i in dataset] \n",
    "# alternative code for above\n",
    "# for i in dataset:\n",
    "#     for ii in dataset[i]:\n",
    "#         plt.scatter(ii[0],ii[1], s=100, color=i)\n",
    "\n",
    "# Plotting the points in new_features\n",
    "plt.scatter(new_features[0], new_features[1], s=100)\n",
    "\n",
    "plt.show()"
   ]
  },
  {
   "cell_type": "code",
   "execution_count": 92,
   "metadata": {},
   "outputs": [],
   "source": [
    "def k_nearest_neighbors(data, predict, k=3):\n",
    "    # set warning if the user attempt to use the K Nearest Neighbors function to vote for nearest neirghbors selected is less than or equal to no of groups that can vote\n",
    "    if len(data) > k:\n",
    "        warnings.warn('K is set to a value less than total voting groups!')\n",
    "    \n",
    "    distances = []\n",
    "    for group in data:\n",
    "        for features in data[group]:\n",
    "            # using normal method\n",
    "            # euclidean_distance = sqrt((features[0]-predict[0]**2 + (features[1]-predict[1])**2))\n",
    "            \n",
    "            # using numpy function\n",
    "            # euclidean_distance = np.sqrt(np.sum((np.array(features)-np.array(predict))**2))\n",
    "            \n",
    "            # using norm function in numpy \n",
    "            euclidean_distance = np.linalg.norm(np.array(features)-np.array(predict))\n",
    "            \n",
    "            # Euclidean Distance is the name for measuring the length of a line segment between points. \n",
    "            # Euclidean Norm measures the magnitude of a vector. Magnitude of a vector is basically the length\n",
    "            distances.append([euclidean_distance,group])\n",
    "    votes = [i[1] for i in sorted(distances)[:k]]\n",
    "    vote_result = Counter(votes).most_common(1)[0][0]\n",
    "    return vote_result"
   ]
  },
  {
   "cell_type": "code",
   "execution_count": 93,
   "metadata": {},
   "outputs": [
    {
     "name": "stdout",
     "output_type": "stream",
     "text": [
      "r\n"
     ]
    }
   ],
   "source": [
    "result = k_nearest_neighbors(dataset, new_features)\n",
    "print(result)"
   ]
  },
  {
   "cell_type": "code",
   "execution_count": 94,
   "metadata": {},
   "outputs": [
    {
     "data": {
      "image/png": "[encoded data removed]",
      "text/plain": [
       "<Figure size 432x288 with 1 Axes>"
      ]
     },
     "metadata": {},
     "output_type": "display_data"
    }
   ],
   "source": [
    "# Plotting the points inside the dataset after Classification\n",
    "\n",
    "[[plt.scatter(ii[0],ii[1],s=100,color=i) for ii in dataset[i]] for i in dataset]\n",
    "# same as:\n",
    "##for i in dataset:\n",
    "##    for ii in dataset[i]:\n",
    "##        plt.scatter(ii[0],ii[1],s=100,color=i)\n",
    "        \n",
    "plt.scatter(new_features[0], new_features[1], s=100)\n",
    "\n",
    "result = k_nearest_neighbors(dataset, new_features)\n",
    "plt.scatter(new_features[0], new_features[1], s=100, color = result)  \n",
    "plt.show()"
   ]
  },
  {
   "cell_type": "markdown",
   "metadata": {},
   "source": [
    "#### Testing our K Nearest Neighbors classifier on breast cancer dataset"
   ]
  },
  {
   "cell_type": "code",
   "execution_count": 95,
   "metadata": {},
   "outputs": [],
   "source": [
    "df = pd.read_csv('breast-cancer-wisconsin.data')\n",
    "# replace question mark\n",
    "df.replace('?',-99999, inplace=True)\n",
    "# drop id column\n",
    "df.drop(['id_no'], 1, inplace=True)\n",
    "# convert all column to float (as some numerical data points appear as string datatype)\n",
    "full_data = df.astype(float).values.tolist()"
   ]
  },
  {
   "cell_type": "code",
   "execution_count": 96,
   "metadata": {},
   "outputs": [
    {
     "name": "stdout",
     "output_type": "stream",
     "text": [
      "Accuracy: 0.9640287769784173\n"
     ]
    }
   ],
   "source": [
    "# Shuffle the data \n",
    "random.shuffle(full_data)\n",
    "\n",
    "# Choose test size percentage\n",
    "test_size = 0.2\n",
    "\n",
    "# Prepare dictionaries for training and testing set to be populated\n",
    "# 2 refers to benign tumors (same value as the actual dataset used)\n",
    "# 4 refers to the malignant tumors (same as the data)\n",
    "train_set = {2:[], 4:[]}\n",
    "test_set = {2:[], 4:[]}\n",
    "\n",
    "# Specify which is the train_data and which is the test_data\n",
    "# We do this by selecting the first 80% as train_data (by doing logic that says to slice the list up to the last 20%),\n",
    "# and then we create the test_data by slicing the final 20% of the shuffled data.\n",
    "train_data = full_data[:-int(test_size*len(full_data))]\n",
    "test_data = full_data[-int(test_size*len(full_data)):]\n",
    "\n",
    "for i in train_data:\n",
    "    train_set[i[-1]].append(i[:-1])\n",
    "\n",
    "for i in test_data:\n",
    "    test_set[i[-1]].append(i[:-1])\n",
    "\n",
    "correct = 0\n",
    "total = 0\n",
    "\n",
    "for group in test_set:\n",
    "    for data in test_set[group]:\n",
    "        vote = k_nearest_neighbors(train_set, data, k=5)\n",
    "        # k = 5 as 5 is the default for Scikit Learn KNeighborsClassifier\n",
    "        if group == vote:\n",
    "            correct += 1\n",
    "        total += 1\n",
    "print('Accuracy:', correct/total)"
   ]
  },
  {
   "cell_type": "markdown",
   "metadata": {},
   "source": [
    "#### Evaluation on K Nearest Neighbors Classifier\n",
    "link : https://scikit-learn.org/stable/modules/generated/sklearn.svm.SVC.html"
   ]
  },
  {
   "cell_type": "markdown",
   "metadata": {},
   "source": [
    "**Pros:**\n",
    "1. very useful since it performs well on both linear and non-linear data\n",
    "    \n",
    "**Cons:**\n",
    "1. Unable to scale: speed for performing operations: the main issue with this objective is that, per datapoint, you have to compare it to every single datapoint to get the distances, thus the algorithm just doesn't scale well, despite being fairly reliable accuracy-wise.\n",
    "2. Unable to work with outliers\n",
    "3. Unable to work with any bad data"
   ]
  },
  {
   "cell_type": "markdown",
   "metadata": {},
   "source": [
    "### (b) Support Vector Machine"
   ]
  },
  {
   "cell_type": "markdown",
   "metadata": {},
   "source": [
    "- The objective of the Support Vector Machine is to find the best splitting boundary between data. In two dimensional space, you can think of this like the best fit line that divides your dataset. With a Support Vector Machine, we're dealing in vector space, thus the separating line is actually a separating hyperplane. The best separating hyperplane is defined as the hyperplane that contains the \"widest\" margin between support vectors. The hyperplane may also be referred to as a decision boundary. \n",
    "- What the Support Vector Machine aims to do is, one time, generate the \"best fit\" line (but actually a plane, and even more specifically a hyperplane!) that best divides the data. Once this hyperplane is discovered, we refer to it as a decision boundary. We do this, because, this is the boundary between being one class or another. \n",
    "\n"
   ]
  },
  {
   "cell_type": "markdown",
   "metadata": {},
   "source": [
    "**Pros:**\n",
    "1. Able to scale (shorter processing time): Once we calculate this decision boundary, we never need to do it again, unless of course we are re-training the dataset. Thus, this algorithm is going to scale, unlike the KNN classifier.\n",
    "    \n",
    "**Cons:**\n",
    "1. this method of learning is only going to work natively on linearly-separable data.\n",
    "2. High complexity (require features to be highly optimized) due to quadratic problem solving"
   ]
  },
  {
   "cell_type": "code",
   "execution_count": 97,
   "metadata": {},
   "outputs": [
    {
     "data": {
      "text/html": [
       "<img src=\"https://pythonprogramming.net/static/images/machine-learning/svm-formal-optimization.png\" width=\"600\" height=\"600\"/>"
      ],
      "text/plain": [
       "<IPython.core.display.Image object>"
      ]
     },
     "execution_count": 97,
     "metadata": {},
     "output_type": "execute_result"
    }
   ],
   "source": [
    "# Formal SVm Constraint Optimization Problem Equation\n",
    "Image(url= \"https://pythonprogramming.net/static/images/machine-learning/svm-formal-optimization.png\", width=600, height=600)"
   ]
  },
  {
   "cell_type": "markdown",
   "metadata": {},
   "source": [
    "- SVM optimization problem is a convex problem (the convex shape is the magnitude of vector w)\n",
    "- finding global minimum (instead of local minimum)\n",
    "- Hence SVM is a **CONVEX OPTIMIZATION** problem\n",
    "- Libraries to solve Quadratic Optimization Problem: **CVXOPT or Scikit Learn or LibSVM**\n",
    "- Link for **CVXOPT:** http://cvxopt.org/\n",
    "- Link for **LibSVM:** https://www.csie.ntu.edu.tw/~cjlin/libsvm/\n",
    "- Link for **Optimization Math**: https://web.stanford.edu/~boyd/cvxbook/bv_cvxbook.pdf\n",
    "- Link for **Constrained Optimization & Language Multiplier Methods**: http://www.mit.edu/~dimitrib/Constrained-Opt.pdf"
   ]
  },
  {
   "cell_type": "markdown",
   "metadata": {},
   "source": [
    "#### Using SVM Package under SKLearn"
   ]
  },
  {
   "cell_type": "code",
   "execution_count": 98,
   "metadata": {},
   "outputs": [
    {
     "name": "stdout",
     "output_type": "stream",
     "text": [
      "0.9428571428571428\n",
      "[2]\n"
     ]
    },
    {
     "name": "stderr",
     "output_type": "stream",
     "text": [
      "/Users/user/opt/anaconda3/lib/python3.7/site-packages/sklearn/svm/base.py:193: FutureWarning: The default value of gamma will change from 'auto' to 'scale' in version 0.22 to account better for unscaled features. Set gamma explicitly to 'auto' or 'scale' to avoid this warning.\n",
      "  \"avoid this warning.\", FutureWarning)\n"
     ]
    }
   ],
   "source": [
    "from sklearn import preprocessing, svm\n",
    "from sklearn.model_selection import cross_validate\n",
    "from sklearn.model_selection import train_test_split\n",
    "from sklearn.linear_model import LinearRegression\n",
    "\n",
    "\n",
    "X = np.array(df.drop(['class'], 1))\n",
    "y = np.array(df['class'])\n",
    "\n",
    "X_train, X_test, y_train, y_test = train_test_split(X, y, test_size=0.2)\n",
    "\n",
    "clf = svm.SVC()\n",
    "\n",
    "clf.fit(X_train, y_train)\n",
    "confidence = clf.score(X_test, y_test)\n",
    "print(confidence)\n",
    "\n",
    "example_measures = np.array([[4,2,1,1,1,2,3,2,1]])\n",
    "example_measures = example_measures.reshape(len(example_measures), -1)\n",
    "prediction = clf.predict(example_measures)\n",
    "print(prediction)"
   ]
  },
  {
   "cell_type": "markdown",
   "metadata": {},
   "source": [
    "#### Building SVM Package from Scratch"
   ]
  },
  {
   "cell_type": "code",
   "execution_count": 99,
   "metadata": {},
   "outputs": [],
   "source": [
    "import matplotlib.pyplot as plt\n",
    "from matplotlib import style\n",
    "import numpy as np\n",
    "style.use('ggplot')"
   ]
  },
  {
   "cell_type": "code",
   "execution_count": 100,
   "metadata": {},
   "outputs": [],
   "source": [
    "data_dict = {-1:np.array([[1,7],\n",
    "                          [2,8],\n",
    "                          [3,8],]),\n",
    "             \n",
    "             1:np.array([[5,1],\n",
    "                         [6,-1],\n",
    "                         [7,3],])}"
   ]
  },
  {
   "cell_type": "code",
   "execution_count": 101,
   "metadata": {},
   "outputs": [
    {
     "data": {
      "text/plain": [
       "{-1: array([[1, 7],\n",
       "        [2, 8],\n",
       "        [3, 8]]), 1: array([[ 5,  1],\n",
       "        [ 6, -1],\n",
       "        [ 7,  3]])}"
      ]
     },
     "execution_count": 101,
     "metadata": {},
     "output_type": "execute_result"
    }
   ],
   "source": [
    "data_dict"
   ]
  },
  {
   "cell_type": "markdown",
   "metadata": {},
   "source": [
    "- The **fit method** will be used to train our SVM. This will be the optimization step. \n",
    "- The **predict method** will predict the value of a new featureset once we've trained the classifier, which is just the sign(x.w+b) once we know what w and b are.\n",
    "- **np.dot**: return dot product\n",
    "- **np.sign**:  if array value is greater than 0 it returns 1, if array value is less than 0 it returns -1, and if array value 0 it returns 0."
   ]
  },
  {
   "cell_type": "code",
   "execution_count": 102,
   "metadata": {},
   "outputs": [],
   "source": [
    "class Support_Vector_Machine:\n",
    "    def __init__(self, visualization=True):\n",
    "        self.visualization = visualization\n",
    "        self.colors = {1:'r',-1:'b'}\n",
    "        if self.visualization:\n",
    "            self.fig = plt.figure()\n",
    "            self.ax = self.fig.add_subplot(1,1,1)\n",
    "    # train\n",
    "    def fit(self, data):\n",
    "        # pass the data which will be used to train against / optimize with\n",
    "        self.data = data\n",
    "        # build an optimization dict as opt_dict which contain optimization values\n",
    "        opt_dict = {}\n",
    "        # The dictionary will be { ||w|| : [w,b] }. \n",
    "        # When we're all done optimizing, we'll choose the values of w and b for whichever one in the dictionary has the lowest key value (which is ||w||)\n",
    "        \n",
    "        transforms = [[1,1],\n",
    "                      [-1,1],\n",
    "                      [-1,-1],\n",
    "                      [1,-1]]\n",
    "        # find values range \n",
    "        all_data = []\n",
    "        for yi in self.data:\n",
    "            for featureset in self.data[yi]:\n",
    "                for feature in featureset:\n",
    "                    all_data.append(feature)\n",
    "        \n",
    "        self.max_feature_value = max(all_data)\n",
    "        self.min_feature_value = min(all_data)\n",
    "        \n",
    "        # no need to keep this memory\n",
    "        all_data = None\n",
    "        \n",
    "        # work on step sizes for w\n",
    "        step_sizes = [self.max_feature_value * 0.1,\n",
    "                      self.max_feature_value * 0.01,\n",
    "                     # starts getting very high cost after this\n",
    "                      self.max_feature_value * 0.001]\n",
    "        \n",
    "        # step sizes for b \n",
    "        ## extremely expensive \n",
    "        b_range_multiple = 5 \n",
    "        b_multiple = 5 \n",
    "        latest_optimum = self.max_feature_value*10\n",
    "        \n",
    "        # start stepping\n",
    "        for step in step_sizes:\n",
    "            w = np.array([latest_optimum, latest_optimum])\n",
    "            # we can do this coz of convex\n",
    "            ## To begin, we'll set optimized to False, and we'll reset this for each major step. The optimized var will be true when we have checked all steps down to the base of the convex shape (our bowl).\n",
    "            optimized = False\n",
    "            while not optimized:\n",
    "                for b in np.arange(-1*(self.max_feature_value*b_range_multiple),\n",
    "                                   self.max_feature_value*b_range_multiple,\n",
    "                                   step*b_multiple):\n",
    "                    for transformation in transforms:\n",
    "                        w_t = w*transformation\n",
    "                        found_option = True\n",
    "                        # weakest link in the SVM fundamentally\n",
    "                        # SMO attempts to fix this a bit\n",
    "                        # yi(xi.w+b) >= 1\n",
    "                        # \n",
    "                        # #### add a break here later..\n",
    "                        for i in self.data:\n",
    "                            for xi in self.data[i]:\n",
    "                                yi=i\n",
    "                                if not yi*(np.dot(w_t,xi)+b) >= 1:\n",
    "                                    found_option = False\n",
    "                                    \n",
    "                        if found_option:\n",
    "                            opt_dict[np.linalg.norm(w_t)] = [w_t,b]\n",
    "                            \n",
    "                if w[0] < 0:\n",
    "                    optimized = True\n",
    "                    print('Optimized a step.')\n",
    "                else:\n",
    "                    w = w - step\n",
    "\n",
    "            norms = sorted([n for n in opt_dict])\n",
    "            #||w|| : [w,b]\n",
    "            opt_choice = opt_dict[norms[0]]\n",
    "            self.w = opt_choice[0]\n",
    "            self.b = opt_choice[1]\n",
    "            latest_optimum = opt_choice[0][0]+step*2\n",
    "\n",
    "        \n",
    "        \n",
    "    def predict(self,features):\n",
    "        # classifiction is just:\n",
    "        # sign(xi.w+b)\n",
    "        classification = np.sign(np.dot(np.array(features),self.w)+self.b)\n",
    "        # if the classification isn't zero, and we have visualization on, we graph\n",
    "        if classification != 0 and self.visualization:\n",
    "            self.ax.scatter(features[0],features[1],s=200,marker='*', c=self.colors[classification])\n",
    "        else:\n",
    "            print('featureset',features,'is on the decision boundary')\n",
    "        return classification\n",
    "    \n",
    "    def visualize(self):\n",
    "        #scattering known featuresets.\n",
    "        [[self.ax.scatter(x[0],x[1],s=100,color=self.colors[i]) for x in data_dict[i]] for i in data_dict]\n",
    "        \n",
    "        # hyperplane = x.w+b\n",
    "        # v = x.w+b\n",
    "        # psv = 1\n",
    "        # nsv = -1\n",
    "        # dec = 0\n",
    "        def hyperplane(x,w,b,v):\n",
    "            return (-w[0]*x-b+v) / w[1]\n",
    "\n",
    "        datarange = (self.min_feature_value*0.9,self.max_feature_value*1.1)\n",
    "        hyp_x_min = datarange[0]\n",
    "        hyp_x_max = datarange[1]\n",
    "\n",
    "        # (w.x+b) = 1\n",
    "        # positive support vector hyperplane\n",
    "        psv1 = hyperplane(hyp_x_min, self.w, self.b, 1)\n",
    "        psv2 = hyperplane(hyp_x_max, self.w, self.b, 1)\n",
    "        self.ax.plot([hyp_x_min,hyp_x_max],[psv1,psv2], 'k')\n",
    "\n",
    "        # (w.x+b) = -1\n",
    "        # negative support vector hyperplane\n",
    "        nsv1 = hyperplane(hyp_x_min, self.w, self.b, -1)\n",
    "        nsv2 = hyperplane(hyp_x_max, self.w, self.b, -1)\n",
    "        self.ax.plot([hyp_x_min,hyp_x_max],[nsv1,nsv2], 'k')\n",
    "\n",
    "        # (w.x+b) = 0\n",
    "        # positive support vector hyperplane\n",
    "        db1 = hyperplane(hyp_x_min, self.w, self.b, 0)\n",
    "        db2 = hyperplane(hyp_x_max, self.w, self.b, 0)\n",
    "        self.ax.plot([hyp_x_min,hyp_x_max],[db1,db2], 'y--')\n",
    "\n",
    "        plt.show()\n",
    "        "
   ]
  },
  {
   "cell_type": "code",
   "execution_count": 103,
   "metadata": {},
   "outputs": [
    {
     "name": "stdout",
     "output_type": "stream",
     "text": [
      "Optimized a step.\n",
      "Optimized a step.\n",
      "Optimized a step.\n"
     ]
    },
    {
     "data": {
      "image/png": "[encoded data removed]",
      "text/plain": [
       "<Figure size 432x288 with 1 Axes>"
      ]
     },
     "metadata": {},
     "output_type": "display_data"
    }
   ],
   "source": [
    "svm = Support_Vector_Machine()\n",
    "svm.fit(data=data_dict)\n",
    "\n",
    "predict_us = [[0,10],\n",
    "              [1,3],\n",
    "              [3,4],\n",
    "              [3,5],\n",
    "              [5,5],\n",
    "              [5,6],\n",
    "              [6,-5],\n",
    "              [5,8]]\n",
    "\n",
    "for p in predict_us:\n",
    "    svm.predict(p)\n",
    "\n",
    "svm.visualize()"
   ]
  },
  {
   "cell_type": "markdown",
   "metadata": {},
   "source": [
    "#### SVM: Kernel "
   ]
  },
  {
   "cell_type": "markdown",
   "metadata": {},
   "source": [
    "- Kernels allows us to add additional dimensions to SVM without paying the processing costs to do it\n",
    "- Kernels requirement: rely on inner products (i.e. dot products)\n",
    "- help us translate our data to a plausibly infinite number of dimensions in order to find one that has linear separability. \n",
    "- We also learned that kernels can let us go out to these dimensions without actually paying the cost for these higher dimensions. "
   ]
  },
  {
   "cell_type": "code",
   "execution_count": 104,
   "metadata": {
    "scrolled": true
   },
   "outputs": [
    {
     "data": {
      "text/html": [
       "<img src=\"https://pythonprogramming.net/static/images/machine-learning/kernel-first-look.png\" width=\"300\" height=\"300\"/>"
      ],
      "text/plain": [
       "<IPython.core.display.Image object>"
      ]
     },
     "execution_count": 104,
     "metadata": {},
     "output_type": "execute_result"
    }
   ],
   "source": [
    "# Definition of Kernels\n",
    "Image(url= \"https://pythonprogramming.net/static/images/machine-learning/kernel-first-look.png\", width=300, height=300)"
   ]
  },
  {
   "cell_type": "code",
   "execution_count": 105,
   "metadata": {},
   "outputs": [
    {
     "data": {
      "text/html": [
       "<img src=\"https://pythonprogramming.net/static/images/machine-learning/z-values-kernel-function-of-x.png\" width=\"300\" height=\"300\"/>"
      ],
      "text/plain": [
       "<IPython.core.display.Image object>"
      ]
     },
     "execution_count": 105,
     "metadata": {},
     "output_type": "execute_result"
    }
   ],
   "source": [
    "# Kernels lead to addition of new dimensions\n",
    "Image(url= \"https://pythonprogramming.net/static/images/machine-learning/z-values-kernel-function-of-x.png\", width=300, height=300)"
   ]
  },
  {
   "cell_type": "code",
   "execution_count": 106,
   "metadata": {},
   "outputs": [
    {
     "data": {
      "text/html": [
       "<img src=\"https://pythonprogramming.net/static/images/machine-learning/radial-basis-function-kernel.png\" width=\"300\" height=\"300\"/>"
      ],
      "text/plain": [
       "<IPython.core.display.Image object>"
      ]
     },
     "execution_count": 106,
     "metadata": {},
     "output_type": "execute_result"
    }
   ],
   "source": [
    "# The default kernal we use is Radial Basis Function (RBF) kernal \n",
    "# able to propose infinite no of dimensions \n",
    "Image(url= \"https://pythonprogramming.net/static/images/machine-learning/radial-basis-function-kernel.png\", width=300, height=300)"
   ]
  },
  {
   "cell_type": "markdown",
   "metadata": {},
   "source": [
    "#### Soft Margin Support Vector Machine"
   ]
  },
  {
   "cell_type": "markdown",
   "metadata": {},
   "source": [
    "**Why Soft-margin Classifier more superior?**\n",
    "1. your data is not perfectly linearlly separable (but it is very close and it makes more sense to continue using the default linearly kernel)\n",
    "2. even if kernel is used, you may end up with over-fitting siginificantly if you use a hard-margin"
   ]
  },
  {
   "cell_type": "markdown",
   "metadata": {},
   "source": [
    "**Why overfitting occurs?**"
   ]
  },
  {
   "cell_type": "code",
   "execution_count": 107,
   "metadata": {},
   "outputs": [
    {
     "data": {
      "text/html": [
       "<img src=\"https://pythonprogramming.net/static/images/machine-learning/hard-margin-with-many-support-vectors.png\" width=\"400\" height=\"400\"/>"
      ],
      "text/plain": [
       "<IPython.core.display.Image object>"
      ]
     },
     "execution_count": 107,
     "metadata": {},
     "output_type": "execute_result"
    }
   ],
   "source": [
    "Image(url= \"https://pythonprogramming.net/static/images/machine-learning/hard-margin-with-many-support-vectors.png\", width=400, height=400)"
   ]
  },
  {
   "cell_type": "markdown",
   "metadata": {},
   "source": [
    "In this case, every single data sample for the positive class is a support vector, and only two of the negative class aren't support vectors. This signals to use a high chance of overfitting having happened. "
   ]
  },
  {
   "cell_type": "markdown",
   "metadata": {},
   "source": [
    "**How to prevent overfitting?**"
   ]
  },
  {
   "cell_type": "code",
   "execution_count": 108,
   "metadata": {},
   "outputs": [
    {
     "data": {
      "text/html": [
       "<img src=\"https://pythonprogramming.net/static/images/machine-learning/linear-soft-margin-example.png\" width=\"400\" height=\"400\"/>"
      ],
      "text/plain": [
       "<IPython.core.display.Image object>"
      ]
     },
     "execution_count": 108,
     "metadata": {},
     "output_type": "execute_result"
    }
   ],
   "source": [
    "Image(url= \"https://pythonprogramming.net/static/images/machine-learning/linear-soft-margin-example.png\", width=400, height=400)"
   ]
  },
  {
   "cell_type": "markdown",
   "metadata": {},
   "source": [
    "We have a couple errors or violations noted by arrows, but this is likely to classify future featuresets better overall. What we have here is a \"soft margin\" classifier, which allows for some \"slack\" on the errors that we might get in the optimization process."
   ]
  },
  {
   "cell_type": "code",
   "execution_count": 109,
   "metadata": {},
   "outputs": [
    {
     "data": {
      "text/html": [
       "<img src=\"https://pythonprogramming.net/static/images/machine-learning/introducing-slack-soft-margin.png\" width=\"400\" height=\"400\"/>"
      ],
      "text/plain": [
       "<IPython.core.display.Image object>"
      ]
     },
     "execution_count": 109,
     "metadata": {},
     "output_type": "execute_result"
    }
   ],
   "source": [
    "Image(url= \"https://pythonprogramming.net/static/images/machine-learning/introducing-slack-soft-margin.png\", width=400, height=400)"
   ]
  },
  {
   "cell_type": "markdown",
   "metadata": {},
   "source": [
    "Our new optimization is the above calculation, where slack is greater than or equal to zero. The closer to 0 the slack is, the more \"hard-margin\" we are. The higher the slack, the more soft the margin is. If slack was 0, then we'd have a typical hard-margin classifier."
   ]
  },
  {
   "cell_type": "markdown",
   "metadata": {},
   "source": [
    "**Our objective is to minimize slack**"
   ]
  },
  {
   "cell_type": "code",
   "execution_count": 110,
   "metadata": {},
   "outputs": [
    {
     "data": {
      "text/html": [
       "<img src=\"https://pythonprogramming.net/static/images/machine-learning/new-svm-minimization-vector-w-slack.png\" width=\"400\" height=\"400\"/>"
      ],
      "text/plain": [
       "<IPython.core.display.Image object>"
      ]
     },
     "execution_count": 110,
     "metadata": {},
     "output_type": "execute_result"
    }
   ],
   "source": [
    "Image(url= \"https://pythonprogramming.net/static/images/machine-learning/new-svm-minimization-vector-w-slack.png\", width=400, height=400)"
   ]
  },
  {
   "cell_type": "markdown",
   "metadata": {},
   "source": [
    "**Explanation:** we actually want to minimize 1/2||w||^2 + (C * The sum of all of the slacks used).With that, we brough in yet another variable, C. C is a multiplier for the \"value\" of how much we want slack to affect the rest of the equation. The lower C, the less important the sum of the slacks is in relation to the magnitude of vector w, and visa versa. In most cases, C will be defaulted to 1."
   ]
  },
  {
   "cell_type": "markdown",
   "metadata": {},
   "source": [
    "**Incoporating a Soft Margin, Kernels and CVXOPT**"
   ]
  },
  {
   "cell_type": "markdown",
   "metadata": {},
   "source": [
    "- CVXOPT Quardratic Programming Docs: https://cvxopt.org/userguide/coneprog.html#quadratic-programming\n",
    "- CVXOPT Quadratic Programming Example: https://cvxopt.org/examples/tutorial/qp.html"
   ]
  },
  {
   "cell_type": "code",
   "execution_count": 111,
   "metadata": {},
   "outputs": [
    {
     "name": "stdout",
     "output_type": "stream",
     "text": [
      "     pcost       dcost       gap    pres   dres\n",
      " 0:  1.3465e+05 -8.6203e+07  2e+08  5e-01  5e-12\n",
      " 1:  3.9665e+05 -1.4879e+07  2e+07  4e-02  8e-12\n",
      " 2:  3.0235e+05 -2.8258e+06  4e+06  6e-03  3e-12\n",
      " 3:  5.9444e+04 -4.8345e+05  6e+05  5e-04  3e-12\n",
      " 4: -2.2202e+03 -7.9858e+04  8e+04  4e-05  2e-12\n",
      " 5: -6.0770e+03 -3.1055e+04  3e+04  8e-06  2e-12\n",
      " 6: -6.9978e+03 -2.9711e+04  2e+04  7e-06  2e-12\n",
      " 7: -7.5476e+03 -2.7925e+04  2e+04  6e-06  2e-12\n",
      " 8: -8.0316e+03 -1.9688e+04  1e+04  5e-07  3e-12\n",
      " 9: -8.2091e+03 -1.9298e+04  1e+04  5e-07  2e-12\n",
      "10: -7.7433e+03 -1.8740e+04  1e+04  4e-07  3e-12\n",
      "11: -8.2194e+03 -1.4216e+04  6e+03  2e-07  3e-12\n",
      "12: -9.5060e+03 -1.3067e+04  4e+03  4e-08  3e-12\n",
      "13: -1.0531e+04 -1.1131e+04  6e+02  4e-09  4e-12\n",
      "14: -1.0515e+04 -1.1096e+04  6e+02  4e-09  3e-12\n",
      "15: -1.0641e+04 -1.0798e+04  2e+02  7e-10  3e-12\n",
      "16: -1.0696e+04 -1.0720e+04  2e+01  1e-10  4e-12\n",
      "17: -1.0702e+04 -1.0713e+04  1e+01  4e-11  4e-12\n",
      "18: -1.0705e+04 -1.0708e+04  4e+00  3e-12  4e-12\n",
      "19: -1.0706e+04 -1.0706e+04  4e-02  1e-12  5e-12\n",
      "20: -1.0706e+04 -1.0706e+04  4e-04  3e-12  5e-12\n",
      "Optimal solution found.\n",
      "14 support vectors out of 180 points\n",
      "20 out of 20 predictions correct\n"
     ]
    },
    {
     "data": {
      "image/png": "[encoded data removed]",
      "text/plain": [
       "<Figure size 432x288 with 1 Axes>"
      ]
     },
     "metadata": {},
     "output_type": "display_data"
    }
   ],
   "source": [
    "# Mathieu Blondel, September 2010\n",
    "# License: BSD 3 clause\n",
    "# http://www.mblondel.org/journal/2010/09/19/support-vector-machines-in-python/\n",
    "\n",
    "# visualizing what translating to another dimension does\n",
    "# and bringing back to 2D:\n",
    "# https://www.youtube.com/watch?v=3liCbRZPrZA\n",
    "\n",
    "# Docs: http://cvxopt.org/userguide/coneprog.html#quadratic-programming\n",
    "# Docs qp example: http://cvxopt.org/examples/tutorial/qp.html\n",
    "\n",
    "# Nice tutorial:\n",
    "# https://courses.csail.mit.edu/6.867/wiki/images/a/a7/Qp-cvxopt.pdf\n",
    "\n",
    "\n",
    "             \n",
    "def linear_kernel(x1, x2):\n",
    "    return np.dot(x1, x2)\n",
    "\n",
    "def polynomial_kernel(x, y, p=3):\n",
    "    return (1 + np.dot(x, y)) ** p\n",
    "\n",
    "def gaussian_kernel(x, y, sigma=5.0):\n",
    "    return np.exp(-linalg.norm(x-y)**2 / (2 * (sigma ** 2)))\n",
    "\n",
    "class SVM(object):\n",
    "\n",
    "    def __init__(self, kernel=linear_kernel, C=None):\n",
    "        self.kernel = kernel\n",
    "        self.C = C\n",
    "        if self.C is not None: self.C = float(self.C)\n",
    "\n",
    "    def fit(self, X, y):\n",
    "        n_samples, n_features = X.shape\n",
    "\n",
    "        # Gram matrix\n",
    "        K = np.zeros((n_samples, n_samples))\n",
    "        for i in range(n_samples):\n",
    "            for j in range(n_samples):\n",
    "                K[i,j] = self.kernel(X[i], X[j])\n",
    "\n",
    "        P = cvxopt.matrix(np.outer(y,y) * K)\n",
    "        q = cvxopt.matrix(np.ones(n_samples) * -1)\n",
    "        A = cvxopt.matrix(y, (1,n_samples))\n",
    "        b = cvxopt.matrix(0.0)\n",
    "\n",
    "        if self.C is None:\n",
    "            G = cvxopt.matrix(np.diag(np.ones(n_samples) * -1))\n",
    "            h = cvxopt.matrix(np.zeros(n_samples))\n",
    "        else:\n",
    "            tmp1 = np.diag(np.ones(n_samples) * -1)\n",
    "            tmp2 = np.identity(n_samples)\n",
    "            G = cvxopt.matrix(np.vstack((tmp1, tmp2)))\n",
    "            tmp1 = np.zeros(n_samples)\n",
    "            tmp2 = np.ones(n_samples) * self.C\n",
    "            h = cvxopt.matrix(np.hstack((tmp1, tmp2)))\n",
    "\n",
    "        # solve QP problem\n",
    "        solution = cvxopt.solvers.qp(P, q, G, h, A, b)\n",
    "\n",
    "        # Lagrange multipliers\n",
    "        a = np.ravel(solution['x'])\n",
    "\n",
    "        # Support vectors have non zero lagrange multipliers\n",
    "        sv = a > 1e-5\n",
    "        ind = np.arange(len(a))[sv]\n",
    "        self.a = a[sv]\n",
    "        self.sv = X[sv]\n",
    "        self.sv_y = y[sv]\n",
    "        print(\"%d support vectors out of %d points\" % (len(self.a), n_samples))\n",
    "\n",
    "        # Intercept\n",
    "        self.b = 0\n",
    "        for n in range(len(self.a)):\n",
    "            self.b += self.sv_y[n]\n",
    "            self.b -= np.sum(self.a * self.sv_y * K[ind[n],sv])\n",
    "        self.b /= len(self.a)\n",
    "\n",
    "        # Weight vector\n",
    "        if self.kernel == linear_kernel:\n",
    "            self.w = np.zeros(n_features)\n",
    "            for n in range(len(self.a)):\n",
    "                self.w += self.a[n] * self.sv_y[n] * self.sv[n]\n",
    "        else:\n",
    "            self.w = None\n",
    "\n",
    "    def project(self, X):\n",
    "        if self.w is not None:\n",
    "            return np.dot(X, self.w) + self.b\n",
    "        else:\n",
    "            y_predict = np.zeros(len(X))\n",
    "            for i in range(len(X)):\n",
    "                s = 0\n",
    "                for a, sv_y, sv in zip(self.a, self.sv_y, self.sv):\n",
    "                    s += a * sv_y * self.kernel(X[i], sv)\n",
    "                y_predict[i] = s\n",
    "            return y_predict + self.b\n",
    "\n",
    "    def predict(self, X):\n",
    "        return np.sign(self.project(X))\n",
    "\n",
    "if __name__ == \"__main__\":\n",
    "    import pylab as pl\n",
    "\n",
    "    def gen_lin_separable_data():\n",
    "        # generate training data in the 2-d case\n",
    "        mean1 = np.array([0, 2])\n",
    "        mean2 = np.array([2, 0])\n",
    "        cov = np.array([[0.8, 0.6], [0.6, 0.8]])\n",
    "        X1 = np.random.multivariate_normal(mean1, cov, 100)\n",
    "        y1 = np.ones(len(X1))\n",
    "        X2 = np.random.multivariate_normal(mean2, cov, 100)\n",
    "        y2 = np.ones(len(X2)) * -1\n",
    "        return X1, y1, X2, y2\n",
    "\n",
    "    def gen_non_lin_separable_data():\n",
    "        mean1 = [-1, 2]\n",
    "        mean2 = [1, -1]\n",
    "        mean3 = [4, -4]\n",
    "        mean4 = [-4, 4]\n",
    "        cov = [[1.0,0.8], [0.8, 1.0]]\n",
    "        X1 = np.random.multivariate_normal(mean1, cov, 50)\n",
    "        X1 = np.vstack((X1, np.random.multivariate_normal(mean3, cov, 50)))\n",
    "        y1 = np.ones(len(X1))\n",
    "        X2 = np.random.multivariate_normal(mean2, cov, 50)\n",
    "        X2 = np.vstack((X2, np.random.multivariate_normal(mean4, cov, 50)))\n",
    "        y2 = np.ones(len(X2)) * -1\n",
    "        return X1, y1, X2, y2\n",
    "\n",
    "    def gen_lin_separable_overlap_data():\n",
    "        # generate training data in the 2-d case\n",
    "        mean1 = np.array([0, 2])\n",
    "        mean2 = np.array([2, 0])\n",
    "        cov = np.array([[1.5, 1.0], [1.0, 1.5]])\n",
    "        X1 = np.random.multivariate_normal(mean1, cov, 100)\n",
    "        y1 = np.ones(len(X1))\n",
    "        X2 = np.random.multivariate_normal(mean2, cov, 100)\n",
    "        y2 = np.ones(len(X2)) * -1\n",
    "        return X1, y1, X2, y2\n",
    "\n",
    "    def split_train(X1, y1, X2, y2):\n",
    "        X1_train = X1[:90]\n",
    "        y1_train = y1[:90]\n",
    "        X2_train = X2[:90]\n",
    "        y2_train = y2[:90]\n",
    "        X_train = np.vstack((X1_train, X2_train))\n",
    "        y_train = np.hstack((y1_train, y2_train))\n",
    "        return X_train, y_train\n",
    "\n",
    "    def split_test(X1, y1, X2, y2):\n",
    "        X1_test = X1[90:]\n",
    "        y1_test = y1[90:]\n",
    "        X2_test = X2[90:]\n",
    "        y2_test = y2[90:]\n",
    "        X_test = np.vstack((X1_test, X2_test))\n",
    "        y_test = np.hstack((y1_test, y2_test))\n",
    "        return X_test, y_test\n",
    "\n",
    "    def plot_margin(X1_train, X2_train, clf):\n",
    "        def f(x, w, b, c=0):\n",
    "            # given x, return y such that [x,y] in on the line\n",
    "            # w.x + b = c\n",
    "            return (-w[0] * x - b + c) / w[1]\n",
    "\n",
    "        pl.plot(X1_train[:,0], X1_train[:,1], \"ro\")\n",
    "        pl.plot(X2_train[:,0], X2_train[:,1], \"bo\")\n",
    "        pl.scatter(clf.sv[:,0], clf.sv[:,1], s=100, c=\"g\")\n",
    "\n",
    "        # w.x + b = 0\n",
    "        a0 = -4; a1 = f(a0, clf.w, clf.b)\n",
    "        b0 = 4; b1 = f(b0, clf.w, clf.b)\n",
    "        pl.plot([a0,b0], [a1,b1], \"k\")\n",
    "\n",
    "        # w.x + b = 1\n",
    "        a0 = -4; a1 = f(a0, clf.w, clf.b, 1)\n",
    "        b0 = 4; b1 = f(b0, clf.w, clf.b, 1)\n",
    "        pl.plot([a0,b0], [a1,b1], \"k--\")\n",
    "\n",
    "        # w.x + b = -1\n",
    "        a0 = -4; a1 = f(a0, clf.w, clf.b, -1)\n",
    "        b0 = 4; b1 = f(b0, clf.w, clf.b, -1)\n",
    "        pl.plot([a0,b0], [a1,b1], \"k--\")\n",
    "\n",
    "        pl.axis(\"tight\")\n",
    "        pl.show()\n",
    "\n",
    "    def plot_contour(X1_train, X2_train, clf):\n",
    "        pl.plot(X1_train[:,0], X1_train[:,1], \"ro\")\n",
    "        pl.plot(X2_train[:,0], X2_train[:,1], \"bo\")\n",
    "        pl.scatter(clf.sv[:,0], clf.sv[:,1], s=100, c=\"g\")\n",
    "\n",
    "        X1, X2 = np.meshgrid(np.linspace(-6,6,50), np.linspace(-6,6,50))\n",
    "        X = np.array([[x1, x2] for x1, x2 in zip(np.ravel(X1), np.ravel(X2))])\n",
    "        Z = clf.project(X).reshape(X1.shape)\n",
    "        pl.contour(X1, X2, Z, [0.0], colors='k', linewidths=1, origin='lower')\n",
    "        pl.contour(X1, X2, Z + 1, [0.0], colors='grey', linewidths=1, origin='lower')\n",
    "        pl.contour(X1, X2, Z - 1, [0.0], colors='grey', linewidths=1, origin='lower')\n",
    "\n",
    "        pl.axis(\"tight\")\n",
    "        pl.show()\n",
    "\n",
    "    def test_linear():\n",
    "        X1, y1, X2, y2 = gen_lin_separable_data()\n",
    "        X_train, y_train = split_train(X1, y1, X2, y2)\n",
    "        X_test, y_test = split_test(X1, y1, X2, y2)\n",
    "\n",
    "        clf = SVM()\n",
    "        clf.fit(X_train, y_train)\n",
    "\n",
    "        y_predict = clf.predict(X_test)\n",
    "        correct = np.sum(y_predict == y_test)\n",
    "        print(\"%d out of %d predictions correct\" % (correct, len(y_predict)))\n",
    "\n",
    "        plot_margin(X_train[y_train==1], X_train[y_train==-1], clf)\n",
    "\n",
    "    def test_non_linear():\n",
    "        X1, y1, X2, y2 = gen_non_lin_separable_data()\n",
    "        X_train, y_train = split_train(X1, y1, X2, y2)\n",
    "        X_test, y_test = split_test(X1, y1, X2, y2)\n",
    "\n",
    "        clf = SVM(polynomial_kernel)\n",
    "        clf.fit(X_train, y_train)\n",
    "\n",
    "        y_predict = clf.predict(X_test)\n",
    "        correct = np.sum(y_predict == y_test)\n",
    "        print(\"%d out of %d predictions correct\" % (correct, len(y_predict)))\n",
    "\n",
    "        plot_contour(X_train[y_train==1], X_train[y_train==-1], clf)\n",
    "\n",
    "    def test_soft():\n",
    "        X1, y1, X2, y2 = gen_lin_separable_overlap_data()\n",
    "        X_train, y_train = split_train(X1, y1, X2, y2)\n",
    "        X_test, y_test = split_test(X1, y1, X2, y2)\n",
    "\n",
    "        clf = SVM(C=1000.1)\n",
    "        clf.fit(X_train, y_train)\n",
    "\n",
    "        y_predict = clf.predict(X_test)\n",
    "        correct = np.sum(y_predict == y_test)\n",
    "        print(\"%d out of %d predictions correct\" % (correct, len(y_predict)))\n",
    "\n",
    "        plot_contour(X_train[y_train==1], X_train[y_train==-1], clf)\n",
    "\n",
    "        \n",
    "    #test_linear()\n",
    "    #test_non_linear()\n",
    "    test_soft()\n"
   ]
  },
  {
   "cell_type": "markdown",
   "metadata": {},
   "source": [
    "**Evaluation:**\n",
    "- Most of the time you will use LibSVM package instead of CVXOPT for SVM Optimization"
   ]
  },
  {
   "cell_type": "markdown",
   "metadata": {},
   "source": [
    "#### Running SVM when you have more than two groups to classify"
   ]
  },
  {
   "cell_type": "markdown",
   "metadata": {},
   "source": [
    "Method: One Verse Rest / OVR\n",
    "- The idea here is you separate each group from the rest. For example, to classify three separate groups (1, 2, and 3), you would start by separating 1 from 2 and 3. Then you would separate 2 from 1 and 3. Then finally separate 3 from 1 and 2. \n",
    "- **Evaluation**: things like confidence may be different per classification boundary, also the separation boundaries may be slightly flawed since there are almost always going to be more negatives than positives, since you're maybe comparing one group to three others. end up with **unbalanced calssification boundary** as shown below"
   ]
  },
  {
   "cell_type": "code",
   "execution_count": 112,
   "metadata": {},
   "outputs": [
    {
     "data": {
      "text/html": [
       "<img src=\"https://pythonprogramming.net/static/images/machine-learning/one-vs-rest-svm.png\" width=\"400\" height=\"400\"/>"
      ],
      "text/plain": [
       "<IPython.core.display.Image object>"
      ]
     },
     "execution_count": 112,
     "metadata": {},
     "output_type": "execute_result"
    }
   ],
   "source": [
    "Image(url= \"https://pythonprogramming.net/static/images/machine-learning/one-vs-rest-svm.png\", width=400, height=400)"
   ]
  },
  {
   "cell_type": "markdown",
   "metadata": {},
   "source": [
    "Method: One vs One (OVO)\n",
    "- In this case, consider you have three total groups. The way this works is you have a specific boundary that separates 1 from 3 and 1 from 2, and this process repeats for the rest of the classes\n",
    "- **Evaluation**: the boundaries maybe more balanced"
   ]
  },
  {
   "cell_type": "code",
   "execution_count": 113,
   "metadata": {},
   "outputs": [
    {
     "data": {
      "text/html": [
       "<img src=\"https://pythonprogramming.net/static/images/machine-learning/one-vs-one-svm.png\" width=\"400\" height=\"400\"/>"
      ],
      "text/plain": [
       "<IPython.core.display.Image object>"
      ]
     },
     "execution_count": 113,
     "metadata": {},
     "output_type": "execute_result"
    }
   ],
   "source": [
    "Image(url= \"https://pythonprogramming.net/static/images/machine-learning/one-vs-one-svm.png\", width=400, height=400)"
   ]
  },
  {
   "cell_type": "markdown",
   "metadata": {},
   "source": [
    "**Parameters:**\n",
    "1. value for c: default value is 1 \n",
    "2. Choice of kernel: The default here is the rbf kernel, but you can also just have a linear kernel, a poly (for polynomial), sigmoid, or even a custom one of your choosing or design.\n",
    "3. Degree Value: defaulting to 3, which is just the degree of the polynomial, if you are using the poly value for the kernel\n",
    "4. Gamma: where you can set the gamma value for the rbf kernel. You should leave this as auto.\n",
    "5. Coef0: allows you to adjust the independent term in your kernel function, but you should also leave this alone most likely, and it is only used in the polynomial and sigmoid kernels.\n",
    "6. Probability: can use this probability parameter to enable a form of one. This is a costly functionality, but may be important enough to you to enable it, otherwise the default is False.\n",
    "7. Shrinking Boolean: default is true. This has to do with whether or not you want a shrinking heuristic used in your optimization of the SVM, which is used in Sequential Minimal Optimization (SMO). You should leave this True, as it should greatly improve your performance, for very little loss in terms of accuracy in most cases.\n",
    "8. Tol Paramter:  setting for the SVM's tolerance in optimization. Recall that yi(xi.w+b)-1 >= 0. For an SVM to be valid, all values must be greater than or equal to 0, and at least one value on each side needs to be \"equal\" to 0, which will be your support vectors. Since it is highly unlikely that you will actually get values equal perfectly to 0, you set tolerance to allow a bit of wiggle room. The default tol with Scikit-Learn's SVM is 1e-3, which is 0.001.\n",
    "9. max_tier: where you can set a maximum number of iterations for the quadratic programming problem to cycle through to optimize. The default is -1, which means there is no limit.\n",
    "10. decision_function_shape: one-vs-one (ovo) or one-vs-rest (ovr)\n",
    "11. random_state: used for a seed in the probability estimation, if you wanted to specify it.\n",
    "\n",
    "**Attributes:**\n",
    "1. support_ gives you the index values for the support vectors. \n",
    "2. support_vectors_ are the actual support vectors. \n",
    "3. n_support_ will tell you how many support vectors you have, which is useful for comparing to your dataset size to determine if you may have some statistical issues. \n",
    "4. The last 3 parameters dual_coef_, coef_, and intercept_ will be useful if you plan to graph the SVM, for example.\n"
   ]
  },
  {
   "cell_type": "markdown",
   "metadata": {},
   "source": [
    "# (C) Clustering Problem - Unsupervised Machine Learning"
   ]
  },
  {
   "cell_type": "markdown",
   "metadata": {},
   "source": [
    "**Two forms of clustering: flat or hierarchical**"
   ]
  },
  {
   "cell_type": "markdown",
   "metadata": {},
   "source": [
    "**Why and When do we use clustering in machine learning?**"
   ]
  },
  {
   "cell_type": "markdown",
   "metadata": {},
   "source": [
    "1. The objective of clustering is to find relationships and meaning in data. In most cases that I have personally seen, people use clustering mostly as a step in what's known as **\"semi-supervised\" machine learning**. The idea here is you might use clustering to define classes, and then use a supervised machine learning algorithm to do further classification. \n",
    "\n",
    "2. Another use is for **feature selection and validation**. For example, consider our Breast Cancer dataset that we've been using. We might believe the features we've chosen are indeed descriptive and meaningful. One option we have is to feed this data through a K Means algorithm, and then indeed see whether or not the two groups we thought we were tracking were actually described by the data in a way we expected. Consider next that you're a data scientist for Amazon. Your CTO has data collected that they believe could be used to predict whether or not customers are buyers or non-buyers. They want you to use K-Means to see if K-Means correctly organizes the customers by the data that the CTO thinks is meaningful. What about Hierarchical Clustering? Consider you're still the same data scientist for Amazon. This time, you run the seemingly meaningful data through a hierarchical clustering algorithm, such as Mean Shift, and you actually get 5 groups. After further analysis, you realize visitors aren't actually just buyers and non-buyers, they are a spectrum! You really have non-buyers, unlikely-to-buyers, slightly-to-buyers, highly-likely-to-buyers, and certain-to-buyers.\n",
    "3. **Used on truly unknown data to find structure**: Consider you're an alien race first discovering human texts in North America. You might take all of the written characters you find and compile them into a big list of features. Then you might feed this list through a Hierarchical Clustering algorithm just to see if you can find specific groups so that you can start to decode the language by characters.\n",
    "4. **clustering can also be used for typical classification**, you just don't actually need to feed it what the classifications are beforehand\n"
   ]
  },
  {
   "cell_type": "markdown",
   "metadata": {},
   "source": [
    "##### (1) K Means Clustering"
   ]
  },
  {
   "cell_type": "markdown",
   "metadata": {},
   "source": [
    "1. Take entire dataset, and set, randomly, K number of centroids. Centroids are just the \"centers\" of your clusters. To start, I typically just take the first K values in my dataset and have those as the start, but you could also randomly select them if you wanted. It should not matter, but, if you are not optimizing for some reason, it may make sense to try to shuffle the data and try again.\n",
    "2. Calculate distance of each featureset to the centroids, and classify each featureset as the centroid class closest to it. Centroid classes are arbitrary, you will likely just call the first centroid 0, the second centroid 1...and so on.\n",
    "3. Once you have classified all data, now you take the \"mean\" of the groups, and set the new centroids as the mean of their associated groups.\n",
    "4. Repeat #2 and #3 until you are optimized. Typically, you measure optimization by movement of the centroid. There are many ways to do this, we're just going to use percent change."
   ]
  },
  {
   "cell_type": "code",
   "execution_count": 114,
   "metadata": {},
   "outputs": [
    {
     "data": {
      "image/png": "[encoded data removed]",
      "text/plain": [
       "<Figure size 432x288 with 1 Axes>"
      ]
     },
     "metadata": {},
     "output_type": "display_data"
    }
   ],
   "source": [
    "import matplotlib.pyplot as plt\n",
    "from matplotlib import style\n",
    "import numpy as np\n",
    "from sklearn.cluster import KMeans\n",
    "style.use('ggplot')\n",
    "\n",
    "#ORIGINAL:\n",
    "\n",
    "X = np.array([[1, 2],\n",
    "              [1.5, 1.8],\n",
    "              [5, 8],\n",
    "              [8, 8],\n",
    "              [1, 0.6],\n",
    "              [9, 11]])\n",
    "\n",
    "\n",
    "plt.scatter(X[:, 0],X[:, 1], s=150, linewidths = 5, zorder = 10)\n",
    "plt.show()"
   ]
  },
  {
   "cell_type": "code",
   "execution_count": 115,
   "metadata": {
    "scrolled": true
   },
   "outputs": [
    {
     "data": {
      "image/png": "[encoded data removed]",
      "text/plain": [
       "<Figure size 432x288 with 1 Axes>"
      ]
     },
     "metadata": {},
     "output_type": "display_data"
    }
   ],
   "source": [
    "clf = KMeans(n_clusters=2)\n",
    "clf.fit(X)\n",
    "centroids = clf.cluster_centers_\n",
    "labels = clf.labels_\n",
    "colors = [\"g.\",\"r.\",\"c.\",\"y.\"]\n",
    "for i in range(len(X)):\n",
    "    plt.plot(X[i][0], X[i][1], colors[labels[i]], markersize = 10)\n",
    "plt.scatter(centroids[:, 0],centroids[:, 1], marker = \"x\", s=150, linewidths = 5, zorder = 10)\n",
    "plt.show()"
   ]
  },
  {
   "cell_type": "markdown",
   "metadata": {},
   "source": [
    "**Dealing with Non-Numerical Elements**"
   ]
  },
  {
   "cell_type": "code",
   "execution_count": 135,
   "metadata": {},
   "outputs": [],
   "source": [
    "import matplotlib.pyplot as plt\n",
    "from matplotlib import style\n",
    "import numpy as np\n",
    "from sklearn.cluster import KMeans\n",
    "style.use('ggplot')"
   ]
  },
  {
   "cell_type": "code",
   "execution_count": 147,
   "metadata": {},
   "outputs": [],
   "source": [
    "os.chdir(r'/Users/user/Documents/GitHub/data_science_learning_journey/programming_notes/data//')"
   ]
  },
  {
   "cell_type": "code",
   "execution_count": 148,
   "metadata": {},
   "outputs": [],
   "source": [
    "titanic_data = pd.read_excel('titanic.xls')"
   ]
  },
  {
   "cell_type": "code",
   "execution_count": 149,
   "metadata": {
    "scrolled": true
   },
   "outputs": [
    {
     "name": "stdout",
     "output_type": "stream",
     "text": [
      "   pclass  survived                                             name     sex  \\\n",
      "0       1         1                    Allen, Miss. Elisabeth Walton  female   \n",
      "1       1         1                   Allison, Master. Hudson Trevor    male   \n",
      "2       1         0                     Allison, Miss. Helen Loraine  female   \n",
      "3       1         0             Allison, Mr. Hudson Joshua Creighton    male   \n",
      "4       1         0  Allison, Mrs. Hudson J C (Bessie Waldo Daniels)  female   \n",
      "\n",
      "       age  sibsp  parch  ticket      fare    cabin embarked boat   body  \\\n",
      "0  29.0000      0      0   24160  211.3375       B5        S    2    NaN   \n",
      "1   0.9167      1      2  113781  151.5500  C22 C26        S   11    NaN   \n",
      "2   2.0000      1      2  113781  151.5500  C22 C26        S  NaN    NaN   \n",
      "3  30.0000      1      2  113781  151.5500  C22 C26        S  NaN  135.0   \n",
      "4  25.0000      1      2  113781  151.5500  C22 C26        S  NaN    NaN   \n",
      "\n",
      "                         home.dest  \n",
      "0                     St Louis, MO  \n",
      "1  Montreal, PQ / Chesterville, ON  \n",
      "2  Montreal, PQ / Chesterville, ON  \n",
      "3  Montreal, PQ / Chesterville, ON  \n",
      "4  Montreal, PQ / Chesterville, ON  \n"
     ]
    }
   ],
   "source": [
    "print(titanic_data.head())"
   ]
  },
  {
   "cell_type": "code",
   "execution_count": 150,
   "metadata": {},
   "outputs": [
    {
     "name": "stdout",
     "output_type": "stream",
     "text": [
      "   pclass  survived     sex      age  sibsp  parch  ticket      fare    cabin  \\\n",
      "0       1         1  female  29.0000      0      0   24160  211.3375       B5   \n",
      "1       1         1    male   0.9167      1      2  113781  151.5500  C22 C26   \n",
      "2       1         0  female   2.0000      1      2  113781  151.5500  C22 C26   \n",
      "3       1         0    male  30.0000      1      2  113781  151.5500  C22 C26   \n",
      "4       1         0  female  25.0000      1      2  113781  151.5500  C22 C26   \n",
      "\n",
      "  embarked boat                        home.dest  \n",
      "0        S    2                     St Louis, MO  \n",
      "1        S   11  Montreal, PQ / Chesterville, ON  \n",
      "2        S    0  Montreal, PQ / Chesterville, ON  \n",
      "3        S    0  Montreal, PQ / Chesterville, ON  \n",
      "4        S    0  Montreal, PQ / Chesterville, ON  \n"
     ]
    }
   ],
   "source": [
    "titanic_data.drop(['body','name'], 1, inplace=True)\n",
    "#titanic_df.convert_objects(convert_numeric=True)\n",
    "titanic_data.fillna(0, inplace=True)\n",
    "print(titanic_data.head())"
   ]
  },
  {
   "cell_type": "code",
   "execution_count": 151,
   "metadata": {},
   "outputs": [],
   "source": [
    "# Iterate through the dataframes to find unique elements for those columns that are not numerical\n",
    "def handle_non_numerical_data(df):\n",
    "    columns = df.columns.values\n",
    "    for column in columns:\n",
    "        text_digits_vals = {}\n",
    "        \n",
    "        # embedded function that converts paramter value to value of that item(as a key)\n",
    "        def convert_to_int(val):\n",
    "            return text_digits_vals[val]\n",
    "        \n",
    "        # check if the column is either an np.int64 or np.float63\n",
    "        if df[column].dtype != np.int64 and df[column].dtype != np.float64:\n",
    "            # if not ingeger, convert column to list of its vlues, take set of the column to take unique values \n",
    "            column_contents = df[column].values.tolist()\n",
    "            unique_elements = set(column_contents)\n",
    "            \n",
    "            # for each of the unique elements found, create a new dictionary key that is that unique element\n",
    "            x = 0 \n",
    "            for unique in unique_elements:\n",
    "                if unique not in text_digits_vals:\n",
    "                    text_digits_vals[unique] = x \n",
    "                    x+=1\n",
    "            \n",
    "            # use mapping to map the function we created before to pd column\n",
    "            df[column] = list(map(convert_to_int, df[column]))\n",
    "    return df"
   ]
  },
  {
   "cell_type": "code",
   "execution_count": 152,
   "metadata": {
    "scrolled": false
   },
   "outputs": [
    {
     "name": "stdout",
     "output_type": "stream",
     "text": [
      "      pclass  survived  sex      age  sibsp  parch  ticket      fare  cabin  \\\n",
      "0          1         1    0  29.0000      0      0     767  211.3375    108   \n",
      "1          1         1    1   0.9167      1      2     526  151.5500     78   \n",
      "2          1         0    0   2.0000      1      2     526  151.5500     78   \n",
      "3          1         0    1  30.0000      1      2     526  151.5500     78   \n",
      "4          1         0    0  25.0000      1      2     526  151.5500     78   \n",
      "...      ...       ...  ...      ...    ...    ...     ...       ...    ...   \n",
      "1304       3         0    0  14.5000      1      0     587   14.4542      0   \n",
      "1305       3         0    0   0.0000      1      0     587   14.4542      0   \n",
      "1306       3         0    1  26.5000      0      0     569    7.2250      0   \n",
      "1307       3         0    1  27.0000      0      0     247    7.2250      0   \n",
      "1308       3         0    1  29.0000      0      0     527    7.8750      0   \n",
      "\n",
      "      embarked  boat  home.dest  \n",
      "0            3     2        299  \n",
      "1            3    28         78  \n",
      "2            3     0         78  \n",
      "3            3     0         78  \n",
      "4            3     0         78  \n",
      "...        ...   ...        ...  \n",
      "1304         2     0          0  \n",
      "1305         2     0          0  \n",
      "1306         2     0          0  \n",
      "1307         2     0          0  \n",
      "1308         3     0          0  \n",
      "\n",
      "[1309 rows x 12 columns]\n"
     ]
    }
   ],
   "source": [
    "df = handle_non_numerical_data(titanic_data)\n",
    "print(df)"
   ]
  },
  {
   "cell_type": "markdown",
   "metadata": {},
   "source": [
    "**K Means Clustering with Titanic Dataset**"
   ]
  },
  {
   "cell_type": "markdown",
   "metadata": {},
   "source": [
    "- Performing clustering for 2 clusters"
   ]
  },
  {
   "cell_type": "code",
   "execution_count": 153,
   "metadata": {
    "scrolled": true
   },
   "outputs": [
    {
     "data": {
      "text/plain": [
       "KMeans(algorithm='auto', copy_x=True, init='k-means++', max_iter=300,\n",
       "       n_clusters=2, n_init=10, n_jobs=None, precompute_distances='auto',\n",
       "       random_state=None, tol=0.0001, verbose=0)"
      ]
     },
     "execution_count": 153,
     "metadata": {},
     "output_type": "execute_result"
    }
   ],
   "source": [
    "df.drop(['sex','boat'], 1, inplace=True)\n",
    "X = np.array(df.drop(['survived'], 1).astype(float))\n",
    "X = preprocessing.scale(X) #important step in data preprocessing\n",
    "y = np.array(df['survived'])\n",
    "\n",
    "clf = KMeans(n_clusters=2)\n",
    "clf.fit(X)"
   ]
  },
  {
   "cell_type": "markdown",
   "metadata": {},
   "source": [
    "- Checking the accuracy level based on the no of correct prediction"
   ]
  },
  {
   "cell_type": "code",
   "execution_count": 154,
   "metadata": {},
   "outputs": [
    {
     "name": "stdout",
     "output_type": "stream",
     "text": [
      "0.6883116883116883\n"
     ]
    }
   ],
   "source": [
    "correct = 0\n",
    "for i in range(len(X)):\n",
    "    predict_me = np.array(X[i].astype(float))\n",
    "    predict_me = predict_me.reshape(-1, len(predict_me))\n",
    "    prediction = clf.predict(predict_me)\n",
    "    if prediction[0] == y[i]:\n",
    "        correct += 1\n",
    "\n",
    "print(correct/len(X))"
   ]
  },
  {
   "cell_type": "markdown",
   "metadata": {},
   "source": [
    "**Building K-Means from Scratch**\n",
    "- Choose value for K\n",
    "- Randomly select K featuresets to start as your centroids\n",
    "- Calculate distance of all other featuresets to centroids\n",
    "- Classify other featuresets as same as closest centroid\n",
    "- Take mean of each class (mean of all featuresets by class), making that mean the new centroid\n",
    "- Repeat steps 3-5 until optimized (centroids no longer moving)"
   ]
  },
  {
   "cell_type": "code",
   "execution_count": 160,
   "metadata": {},
   "outputs": [
    {
     "data": {
      "image/png": "[encoded data removed]",
      "text/plain": [
       "<Figure size 432x288 with 1 Axes>"
      ]
     },
     "metadata": {},
     "output_type": "display_data"
    }
   ],
   "source": [
    "import matplotlib.pyplot as plt\n",
    "from matplotlib import style\n",
    "style.use('ggplot')\n",
    "import numpy as np\n",
    "\n",
    "X = np.array([[1, 2],\n",
    "              [1.5, 1.8],\n",
    "              [5, 8 ],\n",
    "              [8, 8],\n",
    "              [1, 0.6],\n",
    "              [9,11]])\n",
    "\n",
    "plt.scatter(X[:,0], X[:,1], s=150)\n",
    "plt.show()"
   ]
  },
  {
   "cell_type": "code",
   "execution_count": 161,
   "metadata": {},
   "outputs": [],
   "source": [
    "class K_Means:\n",
    "    def __init__(self, k=2, tol=0.001, max_iter=300): # 2 Clusters are chosen\n",
    "        self.k = k # no of clusters\n",
    "        self.tol = tol # tolerance value, not optimized if the centroid is not moving more than the tolerance value\n",
    "        self.max_iter = max_iter # limit the no of cycles we are willing to run \n",
    "    \n",
    "    # Centroid Assignment\n",
    "    def fit(self,data):\n",
    "        \n",
    "        self.centroids = {}\n",
    "        \n",
    "        for i in range(self.k): # choose the first two datapoints as the initial centroids (or can choose the shuffle the data)\n",
    "            self.centroids[i] = data[i] \n",
    "            \n",
    "        for i in range(self.max_iter): # begin iterating through max_tier value\n",
    "            \n",
    "            # start with empty classifications, and then create two dict keys (by iterating through range of self.k)\n",
    "            self.classifications = {}\n",
    "\n",
    "            for i in range(self.k):\n",
    "                self.classifications[i] = []\n",
    "                \n",
    "            # iterate through our features, calculate distances of the features to the current centroids, and classify them \n",
    "            for featureset in data:\n",
    "                distances = [np.linalg.norm(featureset-self.centroids[centroid]) for centroid in self.centroids]\n",
    "                classification = distances.index(min(distances))\n",
    "                self.classifications[classification].append(featureset)\n",
    "                \n",
    "            # create the new centroids, as well as measuring the movement of the centroids. If that movement is less than our tolerance (self.tol), then we're all set. \n",
    "            prev_centroids = dict(self.centroids)\n",
    "\n",
    "            for classification in self.classifications:\n",
    "                self.centroids[classification] = np.average(self.classifications[classification],axis=0)\n",
    "                \n",
    "            # start off assuming we are optimized. We then take all of the centroids, and compare them to the previous centroids. If they are within our required tolerance, then we're happy. If not, then we set optimized to False and we continue \n",
    "            optimized = True\n",
    "\n",
    "            for c in self.centroids:\n",
    "                original_centroid = prev_centroids[c]\n",
    "                current_centroid = self.centroids[c]\n",
    "                if np.sum((current_centroid-original_centroid)/original_centroid*100.0) > self.tol:\n",
    "                    print(np.sum((current_centroid-original_centroid)/original_centroid*100.0))\n",
    "                    optimized = False\n",
    "\n",
    "            if optimized:\n",
    "                break\n",
    "    # Prediction          \n",
    "    def predict(self,data):\n",
    "        distances = [np.linalg.norm(data-self.centroids[centroid]) for centroid in self.centroids]\n",
    "        classification = distances.index(min(distances))\n",
    "        return classification"
   ]
  },
  {
   "cell_type": "code",
   "execution_count": 167,
   "metadata": {},
   "outputs": [
    {
     "name": "stdout",
     "output_type": "stream",
     "text": [
      "453.3333333333334\n",
      "102.72108843537411\n"
     ]
    },
    {
     "ename": "ValueError",
     "evalue": "'color' kwarg must be an mpl color spec or sequence of color specs.\nFor a sequence of values to be color-mapped, use the 'c' argument instead.",
     "output_type": "error",
     "traceback": [
      "\u001b[0;31m---------------------------------------------------------------------------\u001b[0m",
      "\u001b[0;31mValueError\u001b[0m                                Traceback (most recent call last)",
      "\u001b[0;32m~/opt/anaconda3/lib/python3.7/site-packages/matplotlib/axes/_axes.py\u001b[0m in \u001b[0;36m_parse_scatter_color_args\u001b[0;34m(c, edgecolors, kwargs, xshape, yshape, get_next_color_func)\u001b[0m\n\u001b[1;32m   4226\u001b[0m             \u001b[0;32mtry\u001b[0m\u001b[0;34m:\u001b[0m\u001b[0;34m\u001b[0m\u001b[0;34m\u001b[0m\u001b[0m\n\u001b[0;32m-> 4227\u001b[0;31m                 \u001b[0mmcolors\u001b[0m\u001b[0;34m.\u001b[0m\u001b[0mto_rgba_array\u001b[0m\u001b[0;34m(\u001b[0m\u001b[0mkwcolor\u001b[0m\u001b[0;34m)\u001b[0m\u001b[0;34m\u001b[0m\u001b[0;34m\u001b[0m\u001b[0m\n\u001b[0m\u001b[1;32m   4228\u001b[0m             \u001b[0;32mexcept\u001b[0m \u001b[0mValueError\u001b[0m\u001b[0;34m:\u001b[0m\u001b[0;34m\u001b[0m\u001b[0;34m\u001b[0m\u001b[0m\n",
      "\u001b[0;32m~/opt/anaconda3/lib/python3.7/site-packages/matplotlib/colors.py\u001b[0m in \u001b[0;36mto_rgba_array\u001b[0;34m(c, alpha)\u001b[0m\n\u001b[1;32m    293\u001b[0m     \u001b[0;32mfor\u001b[0m \u001b[0mi\u001b[0m\u001b[0;34m,\u001b[0m \u001b[0mcc\u001b[0m \u001b[0;32min\u001b[0m \u001b[0menumerate\u001b[0m\u001b[0;34m(\u001b[0m\u001b[0mc\u001b[0m\u001b[0;34m)\u001b[0m\u001b[0;34m:\u001b[0m\u001b[0;34m\u001b[0m\u001b[0;34m\u001b[0m\u001b[0m\n\u001b[0;32m--> 294\u001b[0;31m         \u001b[0mresult\u001b[0m\u001b[0;34m[\u001b[0m\u001b[0mi\u001b[0m\u001b[0;34m]\u001b[0m \u001b[0;34m=\u001b[0m \u001b[0mto_rgba\u001b[0m\u001b[0;34m(\u001b[0m\u001b[0mcc\u001b[0m\u001b[0;34m,\u001b[0m \u001b[0malpha\u001b[0m\u001b[0;34m)\u001b[0m\u001b[0;34m\u001b[0m\u001b[0;34m\u001b[0m\u001b[0m\n\u001b[0m\u001b[1;32m    295\u001b[0m     \u001b[0;32mreturn\u001b[0m \u001b[0mresult\u001b[0m\u001b[0;34m\u001b[0m\u001b[0;34m\u001b[0m\u001b[0m\n",
      "\u001b[0;32m~/opt/anaconda3/lib/python3.7/site-packages/matplotlib/colors.py\u001b[0m in \u001b[0;36mto_rgba\u001b[0;34m(c, alpha)\u001b[0m\n\u001b[1;32m    176\u001b[0m     \u001b[0;32mif\u001b[0m \u001b[0mrgba\u001b[0m \u001b[0;32mis\u001b[0m \u001b[0;32mNone\u001b[0m\u001b[0;34m:\u001b[0m  \u001b[0;31m# Suppress exception chaining of cache lookup failure.\u001b[0m\u001b[0;34m\u001b[0m\u001b[0;34m\u001b[0m\u001b[0m\n\u001b[0;32m--> 177\u001b[0;31m         \u001b[0mrgba\u001b[0m \u001b[0;34m=\u001b[0m \u001b[0m_to_rgba_no_colorcycle\u001b[0m\u001b[0;34m(\u001b[0m\u001b[0mc\u001b[0m\u001b[0;34m,\u001b[0m \u001b[0malpha\u001b[0m\u001b[0;34m)\u001b[0m\u001b[0;34m\u001b[0m\u001b[0;34m\u001b[0m\u001b[0m\n\u001b[0m\u001b[1;32m    178\u001b[0m         \u001b[0;32mtry\u001b[0m\u001b[0;34m:\u001b[0m\u001b[0;34m\u001b[0m\u001b[0;34m\u001b[0m\u001b[0m\n",
      "\u001b[0;32m~/opt/anaconda3/lib/python3.7/site-packages/matplotlib/colors.py\u001b[0m in \u001b[0;36m_to_rgba_no_colorcycle\u001b[0;34m(c, alpha)\u001b[0m\n\u001b[1;32m    232\u001b[0m             \u001b[0;32mpass\u001b[0m\u001b[0;34m\u001b[0m\u001b[0;34m\u001b[0m\u001b[0m\n\u001b[0;32m--> 233\u001b[0;31m         \u001b[0;32mraise\u001b[0m \u001b[0mValueError\u001b[0m\u001b[0;34m(\u001b[0m\u001b[0;34m\"Invalid RGBA argument: {!r}\"\u001b[0m\u001b[0;34m.\u001b[0m\u001b[0mformat\u001b[0m\u001b[0;34m(\u001b[0m\u001b[0morig_c\u001b[0m\u001b[0;34m)\u001b[0m\u001b[0;34m)\u001b[0m\u001b[0;34m\u001b[0m\u001b[0;34m\u001b[0m\u001b[0m\n\u001b[0m\u001b[1;32m    234\u001b[0m     \u001b[0;31m# tuple color.\u001b[0m\u001b[0;34m\u001b[0m\u001b[0;34m\u001b[0m\u001b[0;34m\u001b[0m\u001b[0m\n",
      "\u001b[0;31mValueError\u001b[0m: Invalid RGBA argument: 'g.'",
      "\nDuring handling of the above exception, another exception occurred:\n",
      "\u001b[0;31mValueError\u001b[0m                                Traceback (most recent call last)",
      "\u001b[0;32m<ipython-input-167-3258ddf6a1da>\u001b[0m in \u001b[0;36m<module>\u001b[0;34m\u001b[0m\n\u001b[1;32m      9\u001b[0m     \u001b[0mcolor\u001b[0m \u001b[0;34m=\u001b[0m \u001b[0mcolors\u001b[0m\u001b[0;34m[\u001b[0m\u001b[0mclassification\u001b[0m\u001b[0;34m]\u001b[0m\u001b[0;34m\u001b[0m\u001b[0;34m\u001b[0m\u001b[0m\n\u001b[1;32m     10\u001b[0m     \u001b[0;32mfor\u001b[0m \u001b[0mfeatureset\u001b[0m \u001b[0;32min\u001b[0m \u001b[0mclf\u001b[0m\u001b[0;34m.\u001b[0m\u001b[0mclassifications\u001b[0m\u001b[0;34m[\u001b[0m\u001b[0mclassification\u001b[0m\u001b[0;34m]\u001b[0m\u001b[0;34m:\u001b[0m\u001b[0;34m\u001b[0m\u001b[0;34m\u001b[0m\u001b[0m\n\u001b[0;32m---> 11\u001b[0;31m         \u001b[0mplt\u001b[0m\u001b[0;34m.\u001b[0m\u001b[0mscatter\u001b[0m\u001b[0;34m(\u001b[0m\u001b[0mfeatureset\u001b[0m\u001b[0;34m[\u001b[0m\u001b[0;36m0\u001b[0m\u001b[0;34m]\u001b[0m\u001b[0;34m,\u001b[0m \u001b[0mfeatureset\u001b[0m\u001b[0;34m[\u001b[0m\u001b[0;36m1\u001b[0m\u001b[0;34m]\u001b[0m\u001b[0;34m,\u001b[0m \u001b[0mmarker\u001b[0m\u001b[0;34m=\u001b[0m\u001b[0;34m\"x\"\u001b[0m\u001b[0;34m,\u001b[0m \u001b[0mcolor\u001b[0m\u001b[0;34m=\u001b[0m\u001b[0mcolors\u001b[0m\u001b[0;34m,\u001b[0m \u001b[0ms\u001b[0m\u001b[0;34m=\u001b[0m\u001b[0;36m150\u001b[0m\u001b[0;34m,\u001b[0m \u001b[0mlinewidths\u001b[0m\u001b[0;34m=\u001b[0m\u001b[0;36m5\u001b[0m\u001b[0;34m)\u001b[0m\u001b[0;34m\u001b[0m\u001b[0;34m\u001b[0m\u001b[0m\n\u001b[0m\u001b[1;32m     12\u001b[0m \u001b[0;34m\u001b[0m\u001b[0m\n\u001b[1;32m     13\u001b[0m \u001b[0mplt\u001b[0m\u001b[0;34m.\u001b[0m\u001b[0mshow\u001b[0m\u001b[0;34m(\u001b[0m\u001b[0;34m)\u001b[0m\u001b[0;34m\u001b[0m\u001b[0;34m\u001b[0m\u001b[0m\n",
      "\u001b[0;32m~/opt/anaconda3/lib/python3.7/site-packages/matplotlib/pyplot.py\u001b[0m in \u001b[0;36mscatter\u001b[0;34m(x, y, s, c, marker, cmap, norm, vmin, vmax, alpha, linewidths, verts, edgecolors, plotnonfinite, data, **kwargs)\u001b[0m\n\u001b[1;32m   2845\u001b[0m         \u001b[0mverts\u001b[0m\u001b[0;34m=\u001b[0m\u001b[0mverts\u001b[0m\u001b[0;34m,\u001b[0m \u001b[0medgecolors\u001b[0m\u001b[0;34m=\u001b[0m\u001b[0medgecolors\u001b[0m\u001b[0;34m,\u001b[0m\u001b[0;34m\u001b[0m\u001b[0;34m\u001b[0m\u001b[0m\n\u001b[1;32m   2846\u001b[0m         plotnonfinite=plotnonfinite, **({\"data\": data} if data is not\n\u001b[0;32m-> 2847\u001b[0;31m         None else {}), **kwargs)\n\u001b[0m\u001b[1;32m   2848\u001b[0m     \u001b[0msci\u001b[0m\u001b[0;34m(\u001b[0m\u001b[0m__ret\u001b[0m\u001b[0;34m)\u001b[0m\u001b[0;34m\u001b[0m\u001b[0;34m\u001b[0m\u001b[0m\n\u001b[1;32m   2849\u001b[0m     \u001b[0;32mreturn\u001b[0m \u001b[0m__ret\u001b[0m\u001b[0;34m\u001b[0m\u001b[0;34m\u001b[0m\u001b[0m\n",
      "\u001b[0;32m~/opt/anaconda3/lib/python3.7/site-packages/matplotlib/__init__.py\u001b[0m in \u001b[0;36minner\u001b[0;34m(ax, data, *args, **kwargs)\u001b[0m\n\u001b[1;32m   1599\u001b[0m     \u001b[0;32mdef\u001b[0m \u001b[0minner\u001b[0m\u001b[0;34m(\u001b[0m\u001b[0max\u001b[0m\u001b[0;34m,\u001b[0m \u001b[0;34m*\u001b[0m\u001b[0margs\u001b[0m\u001b[0;34m,\u001b[0m \u001b[0mdata\u001b[0m\u001b[0;34m=\u001b[0m\u001b[0;32mNone\u001b[0m\u001b[0;34m,\u001b[0m \u001b[0;34m**\u001b[0m\u001b[0mkwargs\u001b[0m\u001b[0;34m)\u001b[0m\u001b[0;34m:\u001b[0m\u001b[0;34m\u001b[0m\u001b[0;34m\u001b[0m\u001b[0m\n\u001b[1;32m   1600\u001b[0m         \u001b[0;32mif\u001b[0m \u001b[0mdata\u001b[0m \u001b[0;32mis\u001b[0m \u001b[0;32mNone\u001b[0m\u001b[0;34m:\u001b[0m\u001b[0;34m\u001b[0m\u001b[0;34m\u001b[0m\u001b[0m\n\u001b[0;32m-> 1601\u001b[0;31m             \u001b[0;32mreturn\u001b[0m \u001b[0mfunc\u001b[0m\u001b[0;34m(\u001b[0m\u001b[0max\u001b[0m\u001b[0;34m,\u001b[0m \u001b[0;34m*\u001b[0m\u001b[0mmap\u001b[0m\u001b[0;34m(\u001b[0m\u001b[0msanitize_sequence\u001b[0m\u001b[0;34m,\u001b[0m \u001b[0margs\u001b[0m\u001b[0;34m)\u001b[0m\u001b[0;34m,\u001b[0m \u001b[0;34m**\u001b[0m\u001b[0mkwargs\u001b[0m\u001b[0;34m)\u001b[0m\u001b[0;34m\u001b[0m\u001b[0;34m\u001b[0m\u001b[0m\n\u001b[0m\u001b[1;32m   1602\u001b[0m \u001b[0;34m\u001b[0m\u001b[0m\n\u001b[1;32m   1603\u001b[0m         \u001b[0mbound\u001b[0m \u001b[0;34m=\u001b[0m \u001b[0mnew_sig\u001b[0m\u001b[0;34m.\u001b[0m\u001b[0mbind\u001b[0m\u001b[0;34m(\u001b[0m\u001b[0max\u001b[0m\u001b[0;34m,\u001b[0m \u001b[0;34m*\u001b[0m\u001b[0margs\u001b[0m\u001b[0;34m,\u001b[0m \u001b[0;34m**\u001b[0m\u001b[0mkwargs\u001b[0m\u001b[0;34m)\u001b[0m\u001b[0;34m\u001b[0m\u001b[0;34m\u001b[0m\u001b[0m\n",
      "\u001b[0;32m~/opt/anaconda3/lib/python3.7/site-packages/matplotlib/axes/_axes.py\u001b[0m in \u001b[0;36mscatter\u001b[0;34m(self, x, y, s, c, marker, cmap, norm, vmin, vmax, alpha, linewidths, verts, edgecolors, plotnonfinite, **kwargs)\u001b[0m\n\u001b[1;32m   4452\u001b[0m             self._parse_scatter_color_args(\n\u001b[1;32m   4453\u001b[0m                 \u001b[0mc\u001b[0m\u001b[0;34m,\u001b[0m \u001b[0medgecolors\u001b[0m\u001b[0;34m,\u001b[0m \u001b[0mkwargs\u001b[0m\u001b[0;34m,\u001b[0m \u001b[0mxshape\u001b[0m\u001b[0;34m,\u001b[0m \u001b[0myshape\u001b[0m\u001b[0;34m,\u001b[0m\u001b[0;34m\u001b[0m\u001b[0;34m\u001b[0m\u001b[0m\n\u001b[0;32m-> 4454\u001b[0;31m                 get_next_color_func=self._get_patches_for_fill.get_next_color)\n\u001b[0m\u001b[1;32m   4455\u001b[0m \u001b[0;34m\u001b[0m\u001b[0m\n\u001b[1;32m   4456\u001b[0m         \u001b[0;32mif\u001b[0m \u001b[0mplotnonfinite\u001b[0m \u001b[0;32mand\u001b[0m \u001b[0mcolors\u001b[0m \u001b[0;32mis\u001b[0m \u001b[0;32mNone\u001b[0m\u001b[0;34m:\u001b[0m\u001b[0;34m\u001b[0m\u001b[0;34m\u001b[0m\u001b[0m\n",
      "\u001b[0;32m~/opt/anaconda3/lib/python3.7/site-packages/matplotlib/axes/_axes.py\u001b[0m in \u001b[0;36m_parse_scatter_color_args\u001b[0;34m(c, edgecolors, kwargs, xshape, yshape, get_next_color_func)\u001b[0m\n\u001b[1;32m   4227\u001b[0m                 \u001b[0mmcolors\u001b[0m\u001b[0;34m.\u001b[0m\u001b[0mto_rgba_array\u001b[0m\u001b[0;34m(\u001b[0m\u001b[0mkwcolor\u001b[0m\u001b[0;34m)\u001b[0m\u001b[0;34m\u001b[0m\u001b[0;34m\u001b[0m\u001b[0m\n\u001b[1;32m   4228\u001b[0m             \u001b[0;32mexcept\u001b[0m \u001b[0mValueError\u001b[0m\u001b[0;34m:\u001b[0m\u001b[0;34m\u001b[0m\u001b[0;34m\u001b[0m\u001b[0m\n\u001b[0;32m-> 4229\u001b[0;31m                 raise ValueError(\"'color' kwarg must be an mpl color\"\n\u001b[0m\u001b[1;32m   4230\u001b[0m                                  \u001b[0;34m\" spec or sequence of color specs.\\n\"\u001b[0m\u001b[0;34m\u001b[0m\u001b[0;34m\u001b[0m\u001b[0m\n\u001b[1;32m   4231\u001b[0m                                  \u001b[0;34m\"For a sequence of values to be color-mapped,\"\u001b[0m\u001b[0;34m\u001b[0m\u001b[0;34m\u001b[0m\u001b[0m\n",
      "\u001b[0;31mValueError\u001b[0m: 'color' kwarg must be an mpl color spec or sequence of color specs.\nFor a sequence of values to be color-mapped, use the 'c' argument instead."
     ]
    },
    {
     "data": {
      "image/png": "[encoded data removed]",
      "text/plain": [
       "<Figure size 432x288 with 1 Axes>"
      ]
     },
     "metadata": {},
     "output_type": "display_data"
    }
   ],
   "source": [
    "clf = K_Means()\n",
    "clf.fit(X)\n",
    "\n",
    "for centroid in clf.centroids:\n",
    "    plt.scatter(clf.centroids[centroid][0], clf.centroids[centroid][1],\n",
    "                marker=\"o\", color=\"k\", s=150, linewidths=5)\n",
    "\n",
    "for classification in clf.classifications:\n",
    "    color = colors[classification]\n",
    "    for featureset in clf.classifications[classification]:\n",
    "        plt.scatter(featureset[0], featureset[1], marker=\"x\", color=color, s=150, linewidths=5)\n",
    "        \n",
    "plt.show()"
   ]
  },
  {
   "cell_type": "code",
   "execution_count": null,
   "metadata": {},
   "outputs": [],
   "source": []
  },
  {
   "cell_type": "code",
   "execution_count": null,
   "metadata": {},
   "outputs": [],
   "source": []
  },
  {
   "cell_type": "code",
   "execution_count": null,
   "metadata": {},
   "outputs": [],
   "source": []
  },
  {
   "cell_type": "code",
   "execution_count": null,
   "metadata": {},
   "outputs": [],
   "source": []
  },
  {
   "cell_type": "code",
   "execution_count": null,
   "metadata": {},
   "outputs": [],
   "source": []
  },
  {
   "cell_type": "code",
   "execution_count": null,
   "metadata": {},
   "outputs": [],
   "source": []
  }
 ],
 "metadata": {
  "kernelspec": {
   "display_name": "Python 3",
   "language": "python",
   "name": "python3"
  },
  "language_info": {
   "codemirror_mode": {
    "name": "ipython",
    "version": 3
   },
   "file_extension": ".py",
   "mimetype": "text/x-python",
   "name": "python",
   "nbconvert_exporter": "python",
   "pygments_lexer": "ipython3",
   "version": "3.7.4"
  }
 },
 "nbformat": 4,
 "nbformat_minor": 2
}
