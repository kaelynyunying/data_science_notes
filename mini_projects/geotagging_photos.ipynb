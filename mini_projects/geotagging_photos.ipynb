{
 "cells": [
  {
   "cell_type": "markdown",
   "metadata": {},
   "source": [
    "**Objective of Mini-project:**\n",
    "- How to extract Exif metadata from a JPEG: The Exchangeable image file format (Exif) is a standard that’s been around since 1998 to include metadata in image file formats like JPEG, WAV, HEIC, and WEBP. \n",
    "\n",
    "**Note:** for a photo to have exif metadata with geotagged info, the photo need to be taken with GPS mode on"
   ]
  },
  {
   "cell_type": "code",
   "execution_count": 1,
   "metadata": {
    "scrolled": false
   },
   "outputs": [
    {
     "name": "stdout",
     "output_type": "stream",
     "text": [
      "Requirement already satisfied: Pillow in /Users/user/opt/anaconda3/lib/python3.7/site-packages (6.2.0)\n",
      "Note: you may need to restart the kernel to use updated packages.\n"
     ]
    }
   ],
   "source": [
    "pip install Pillow"
   ]
  },
  {
   "cell_type": "markdown",
   "metadata": {},
   "source": [
    "##### Import Packages and Directory Set Up "
   ]
  },
  {
   "cell_type": "code",
   "execution_count": 2,
   "metadata": {},
   "outputs": [],
   "source": [
    "import os\n",
    "from PIL import Image\n",
    "from PIL.ExifTags import TAGS\n",
    "from PIL.ExifTags import GPSTAGS\n",
    "os.chdir(r'/Users/user/Desktop/vietnam_trip//')"
   ]
  },
  {
   "cell_type": "code",
   "execution_count": 3,
   "metadata": {},
   "outputs": [],
   "source": [
    "# To display the image\n",
    "image = Image.open('IMG_8910.JPG')\n",
    "image.show()"
   ]
  },
  {
   "cell_type": "markdown",
   "metadata": {},
   "source": [
    "#### Define Functions "
   ]
  },
  {
   "cell_type": "code",
   "execution_count": 4,
   "metadata": {
    "scrolled": true
   },
   "outputs": [],
   "source": [
    "# function to obtain exif data from an image\n",
    "def get_exif(filename):\n",
    "    image = Image.open(filename)\n",
    "    image.verify()\n",
    "    return image._getexif()\n",
    "\n",
    "# Function to return the exif data with specific label\n",
    "def get_labeled_exif(exif):\n",
    "    labeled = {}\n",
    "    for (key, val) in exif.items():\n",
    "        labeled[TAGS.get(key)] = val\n",
    "\n",
    "    return labeled\n",
    "\n",
    "# function to obtain the exif geotagging data\n",
    "def get_geotagging(exif):\n",
    "    if not exif:\n",
    "        raise ValueError(\"No EXIF metadata found\")\n",
    "\n",
    "    geotagging = {}\n",
    "    for (idx, tag) in TAGS.items():\n",
    "        if tag == 'GPSInfo':\n",
    "            if idx not in exif:\n",
    "                raise ValueError(\"No EXIF geotagging found\")\n",
    "\n",
    "            for (key, val) in GPSTAGS.items():\n",
    "                if key in exif[idx]:\n",
    "                    geotagging[val] = exif[idx][key]\n",
    "\n",
    "    return geotagging\n",
    "\n",
    "# function to obtain the lat and long coordinates from a geotagging data\n",
    "\n",
    "# some geo coordinates data are stored as degrees, minutes and seconds format and we need to change it to normal coordinates format\n",
    "def get_decimal_from_dms(dms, ref):\n",
    "\n",
    "    degrees = dms[0][0] / dms[0][1]\n",
    "    minutes = dms[1][0] / dms[1][1] / 60.0\n",
    "    seconds = dms[2][0] / dms[2][1] / 3600.0\n",
    "\n",
    "    if ref in ['S', 'W']:\n",
    "        degrees = -degrees\n",
    "        minutes = -minutes\n",
    "        seconds = -seconds\n",
    "\n",
    "    return round(degrees + minutes + seconds, 5)\n",
    "\n",
    "def get_coordinates(geotags):\n",
    "    lat = get_decimal_from_dms(geotags['GPSLatitude'], geotags['GPSLatitudeRef'])\n",
    "\n",
    "    lon = get_decimal_from_dms(geotags['GPSLongitude'], geotags['GPSLongitudeRef'])\n",
    "\n",
    "    return (lat,lon)"
   ]
  },
  {
   "cell_type": "markdown",
   "metadata": {},
   "source": [
    "#### Obtain Geotagged Information "
   ]
  },
  {
   "cell_type": "code",
   "execution_count": 5,
   "metadata": {},
   "outputs": [
    {
     "name": "stdout",
     "output_type": "stream",
     "text": [
      "{36864: b'0231', 37121: b'\\x01\\x02\\x03\\x00', 37377: (73451, 7306), 36867: '2019:12:28 09:13:11', 36868: '2019:12:28 09:13:11', 37378: (185611, 81587), 37379: (117976, 11609), 37380: (0, 1), 37383: 5, 37385: 16, 37386: (287, 100), 40961: 65535, 40962: 3088, 41989: 32, 41990: 0, 271: 'Apple', 36880: '+07:00', 36881: '+07:00', 36882: '+07:00', 37521: '839', 37522: '839', 40963: 2316, 272: 'iPhone XS', 41495: 2, 274: 3, 531: 1, 33434: (1, 1063), 282: (72, 1), 283: (72, 1), 33437: (11, 5), 41729: b'\\x01', 34850: 2, 34853: {1: 'N', 2: ((12, 1), (1, 1), (5722, 100)), 3: 'E', 4: ((108, 1), (24, 1), (4508, 100)), 5: b'\\x00', 6: (3329836, 1745), 12: 'K', 13: (0, 1), 16: 'T', 17: (482515, 1697), 23: 'T', 24: (221397, 2122), 29: '2019:12:28', 31: (62977, 13299)}, 34855: 16, 296: 2, 41986: 0, 40960: b'0100', 41987: 0, 305: '13.3', 42034: ((250617, 87323), (250617, 87323), (11, 5), (11, 5)), 42035: 'Apple', 42036: 'iPhone XS front camera 2.87mm f/2.2', 306: '2019:12:28 09:13:11', 34665: 204, 37500: b'Apple iOS\\x00\\x00\\x01MM\\x00\\x14\\x00\\x01\\x00\\t\\x00\\x00\\x00\\x01\\x00\\x00\\x00\\x0b\\x00\\x02\\x00\\x07\\x00\\x00\\x02.\\x00\\x00\\x01\\x04\\x00\\x03\\x00\\x07\\x00\\x00\\x00h\\x00\\x00\\x032\\x00\\x04\\x00\\t\\x00\\x00\\x00\\x01\\x00\\x00\\x00\\x01\\x00\\x05\\x00\\t\\x00\\x00\\x00\\x01\\x00\\x00\\x00\\xce\\x00\\x06\\x00\\t\\x00\\x00\\x00\\x01\\x00\\x00\\x00\\xcc\\x00\\x07\\x00\\t\\x00\\x00\\x00\\x01\\x00\\x00\\x00\\x01\\x00\\x08\\x00\\n\\x00\\x00\\x00\\x03\\x00\\x00\\x03\\x9a\\x00\\x0b\\x00\\x02\\x00\\x00\\x00%\\x00\\x00\\x03\\xb2\\x00\\x0e\\x00\\t\\x00\\x00\\x00\\x01\\x00\\x00\\x00\\x00\\x00\\x14\\x00\\t\\x00\\x00\\x00\\x01\\x00\\x00\\x00\\x01\\x00\\x17\\x00\\t\\x00\\x00\\x00\\x01\\x00\\x00@\\x00\\x00\\x19\\x00\\t\\x00\\x00\\x00\\x01\\x00\\x00\\x02\\x00\\x00\\x1f\\x00\\t\\x00\\x00\\x00\\x01\\x00\\x00\\x00\\x00\\x00 \\x00\\x02\\x00\\x00\\x00%\\x00\\x00\\x03\\xd8\\x00!\\x00\\n\\x00\\x00\\x00\\x01\\x00\\x00\\x03\\xfe\\x00%\\x00\\t\\x00\\x00\\x00\\x01\\x00\\x00!\\x86\\x00&\\x00\\t\\x00\\x00\\x00\\x01\\x00\\x00\\x00\\x01\\x00\\'\\x00\\n\\x00\\x00\\x00\\x01\\x00\\x00\\x04\\x06\\x00+\\x00\\x02\\x00\\x00\\x00%\\x00\\x00\\x04\\x0e\\x00\\x00\\x00\\x00bplist00O\\x11\\x02\\x00&\\x007\\x00;\\x00 \\x00\\x1d\\x00|\\x01S\\x01\\x98\\x00\\xeb\\x00\\xb4\\x00\\x8f\\x00%\\x00\\xdb\\x00\\xf7\\x00\\x01\\x02\\x9b\\x01;\\x00+\\x00c\\x00!\\x00\\x16\\x00$\\x02O\\x019\\x00W\\x00\\x9d\\x00S\\x00(\\x00\\xb7\\x00R\\x01\\x01\\x01\\x86\\x01F\\x00:\\x00T\\x00-\\x00\\x17\\x00\\xac\\x02x\\x01T\\x00P\\x00\\xaf\\x00b\\x00K\\x00*\\x00\\xb0\\x00T\\x00#\\x02C\\x00.\\x00R\\x00^\\x00\"\\x00u\\x02l\\x01\\x8a\\x00\\x9c\\x00\\x95\\x00\\x92\\x00\\xbb\\x007\\x00_\\x00<\\x01\\xf2\\x01T\\x00A\\x000\\x00\\x91\\x00?\\x00\\xd2\\x01\\xd7\\x00\\xd0\\x00\\x03\\x018\\x00\\x8d\\x00\\x7f\\x01g\\x00M\\x01{\\x01\\xb0\\x01c\\x007\\x00J\\x00\\xa0\\x00n\\x00 \\x00t\\x00\\xa1\\x00\\x8d\\x00<\\x00\\xd6\\x00\\x19\\x02\\xd5\\x00J\\x01?\\x01{\\x01\\x95\\x00i\\x00\\xe7\\x00y\\x02v\\x01\\xef\\x00b\\x00s\\x01W\\x00\\x8f\\x00\\x14\\x01]\\x01G\\x01\\xe4\\x00O\\x01R\\x01f\\x01\\xf7\\x00*\\x00\\x1f\\x01!\\x01h\\x01(\\x03y\\x03\\'\\x01\\x84\\x00\\x9b\\x006\\x013\\x011\\x011\\x012\\x01Q\\x015\\x01\\xb7\\x00 \\x010\\x01 \\x01\\xb1\\x02\\xce\\x02C\\x01P\\x01\\x15\\x01\\x18\\x01\\x17\\x01\\x16\\x01\\x15\\x01\\x14\\x012\\x01+\\x01#\\x01 \\x01\\x1e\\x01\\x18\\x01\\x14\\x01T\\x01/\\x01\\xa0\\x00\\x01\\x01\\xfd\\x00\\xfd\\x00\\xfc\\x00\\xfb\\x00\\xfb\\x00\\x1b\\x01\\x13\\x01\\x0b\\x01\\t\\x01\\x05\\x01\\x00\\x01\\xfc\\x00\\xf7\\x00N\\x01\\xee\\x00\\xea\\x00\\xe8\\x00\\xe8\\x00\\xe7\\x00\\xe7\\x00\\xe9\\x00\\x05\\x01\\xff\\x00\\xf9\\x00\\xf5\\x00\\xf0\\x00\\xec\\x00\\xe8\\x00\\xe4\\x00\\x00\\x01\\xda\\x00\\xd9\\x00\\xd8\\x00\\xd5\\x00\\xd4\\x00\\xd6\\x00\\xda\\x00\\xf2\\x00\\xee\\x00\\xe9\\x00\\xe5\\x00\\xde\\x00\\xda\\x00\\xd8\\x00\\xd4\\x00\\xcd\\x00\\xca\\x00\\xc7\\x00\\xc6\\x00\\xc7\\x00\\xc6\\x00\\xc8\\x00\\xcd\\x00\\xe0\\x00\\xdd\\x00\\xd9\\x00\\xd6\\x00\\xd2\\x00\\xce\\x00\\xcb\\x00\\xc6\\x00\\xbe\\x00\\xbb\\x00\\xb9\\x00\\xb9\\x00\\xb9\\x00\\xba\\x00\\xbd\\x00\\xc4\\x00\\xd2\\x00\\xcf\\x00\\xcd\\x00\\xca\\x00\\xc8\\x00\\xc4\\x00\\xbf\\x00\\xbc\\x00\\xb7\\x00\\xb1\\x00\\xad\\x00\\xae\\x00\\xb0\\x00\\xb0\\x00\\xb4\\x00\\xba\\x00\\xc8\\x00\\xc3\\x00\\xc3\\x00\\xc1\\x00\\xbd\\x00\\xb8\\x00\\xb3\\x00\\xb2\\x00\\xaf\\x00\\xaa\\x00\\xa8\\x00\\xaa\\x00\\xaa\\x00\\xab\\x00\\xad\\x00\\xaf\\x00\\x00\\x08\\x00\\x00\\x00\\x00\\x00\\x00\\x02\\x01\\x00\\x00\\x00\\x00\\x00\\x00\\x00\\x01\\x00\\x00\\x00\\x00\\x00\\x00\\x00\\x00\\x00\\x00\\x00\\x00\\x00\\x00\\x02\\x0cbplist00\\xd4\\x01\\x02\\x03\\x04\\x05\\x06\\x07\\x08UflagsUvalueYtimescaleUepoch\\x10\\x01\\x13\\x00\\x00u;k\\x93\\x1f\\xed\\x12;\\x9a\\xca\\x00\\x10\\x00\\x08\\x11\\x17\\x1d\\'-/8=\\x00\\x00\\x00\\x00\\x00\\x00\\x01\\x01\\x00\\x00\\x00\\x00\\x00\\x00\\x00\\t\\x00\\x00\\x00\\x00\\x00\\x00\\x00\\x00\\x00\\x00\\x00\\x00\\x00\\x00\\x00?\\xff\\xffU\\xbb\\x00\\x00\\xb3\\x10\\x00\\x00\\x19\\xe3\\x00\\x04\\xa0$\\xff\\xfe\\x82\\x98\\x00\\x05r\\x1b73951625-481A-4896-ADD5-244BBE35848E\\x00\\x0066507B58-E189-49A8-83A1-D98DE07BD37B\\x00\\x00\\x00\\x00\\x00\\x00\\x00\\x00\\x00\\x01\\x00\\x01\\x85o\\x00\\x00\\x0c\\xba61B99EB0-748F-4BA7-B962-A1038DDF725B\\x00\\x00'}\n"
     ]
    }
   ],
   "source": [
    "exif = get_exif('IMG_8910.JPG')\n",
    "print(exif)"
   ]
  },
  {
   "cell_type": "code",
   "execution_count": 6,
   "metadata": {},
   "outputs": [
    {
     "name": "stdout",
     "output_type": "stream",
     "text": [
      "{'ExifVersion': b'0231', 'ComponentsConfiguration': b'\\x01\\x02\\x03\\x00', 'ShutterSpeedValue': (73451, 7306), 'DateTimeOriginal': '2019:12:28 09:13:11', 'DateTimeDigitized': '2019:12:28 09:13:11', 'ApertureValue': (185611, 81587), 'BrightnessValue': (117976, 11609), 'ExposureBiasValue': (0, 1), 'MeteringMode': 5, 'Flash': 16, 'FocalLength': (287, 100), 'ColorSpace': 65535, 'ExifImageWidth': 3088, 'FocalLengthIn35mmFilm': 32, 'SceneCaptureType': 0, 'Make': 'Apple', None: '+07:00', 'SubsecTimeOriginal': '839', 'SubsecTimeDigitized': '839', 'ExifImageHeight': 2316, 'Model': 'iPhone XS', 'SensingMethod': 2, 'Orientation': 3, 'YCbCrPositioning': 1, 'ExposureTime': (1, 1063), 'XResolution': (72, 1), 'YResolution': (72, 1), 'FNumber': (11, 5), 'SceneType': b'\\x01', 'ExposureProgram': 2, 'GPSInfo': {1: 'N', 2: ((12, 1), (1, 1), (5722, 100)), 3: 'E', 4: ((108, 1), (24, 1), (4508, 100)), 5: b'\\x00', 6: (3329836, 1745), 12: 'K', 13: (0, 1), 16: 'T', 17: (482515, 1697), 23: 'T', 24: (221397, 2122), 29: '2019:12:28', 31: (62977, 13299)}, 'ISOSpeedRatings': 16, 'ResolutionUnit': 2, 'ExposureMode': 0, 'FlashPixVersion': b'0100', 'WhiteBalance': 0, 'Software': '13.3', 'LensSpecification': ((250617, 87323), (250617, 87323), (11, 5), (11, 5)), 'LensMake': 'Apple', 'LensModel': 'iPhone XS front camera 2.87mm f/2.2', 'DateTime': '2019:12:28 09:13:11', 'ExifOffset': 204, 'MakerNote': b'Apple iOS\\x00\\x00\\x01MM\\x00\\x14\\x00\\x01\\x00\\t\\x00\\x00\\x00\\x01\\x00\\x00\\x00\\x0b\\x00\\x02\\x00\\x07\\x00\\x00\\x02.\\x00\\x00\\x01\\x04\\x00\\x03\\x00\\x07\\x00\\x00\\x00h\\x00\\x00\\x032\\x00\\x04\\x00\\t\\x00\\x00\\x00\\x01\\x00\\x00\\x00\\x01\\x00\\x05\\x00\\t\\x00\\x00\\x00\\x01\\x00\\x00\\x00\\xce\\x00\\x06\\x00\\t\\x00\\x00\\x00\\x01\\x00\\x00\\x00\\xcc\\x00\\x07\\x00\\t\\x00\\x00\\x00\\x01\\x00\\x00\\x00\\x01\\x00\\x08\\x00\\n\\x00\\x00\\x00\\x03\\x00\\x00\\x03\\x9a\\x00\\x0b\\x00\\x02\\x00\\x00\\x00%\\x00\\x00\\x03\\xb2\\x00\\x0e\\x00\\t\\x00\\x00\\x00\\x01\\x00\\x00\\x00\\x00\\x00\\x14\\x00\\t\\x00\\x00\\x00\\x01\\x00\\x00\\x00\\x01\\x00\\x17\\x00\\t\\x00\\x00\\x00\\x01\\x00\\x00@\\x00\\x00\\x19\\x00\\t\\x00\\x00\\x00\\x01\\x00\\x00\\x02\\x00\\x00\\x1f\\x00\\t\\x00\\x00\\x00\\x01\\x00\\x00\\x00\\x00\\x00 \\x00\\x02\\x00\\x00\\x00%\\x00\\x00\\x03\\xd8\\x00!\\x00\\n\\x00\\x00\\x00\\x01\\x00\\x00\\x03\\xfe\\x00%\\x00\\t\\x00\\x00\\x00\\x01\\x00\\x00!\\x86\\x00&\\x00\\t\\x00\\x00\\x00\\x01\\x00\\x00\\x00\\x01\\x00\\'\\x00\\n\\x00\\x00\\x00\\x01\\x00\\x00\\x04\\x06\\x00+\\x00\\x02\\x00\\x00\\x00%\\x00\\x00\\x04\\x0e\\x00\\x00\\x00\\x00bplist00O\\x11\\x02\\x00&\\x007\\x00;\\x00 \\x00\\x1d\\x00|\\x01S\\x01\\x98\\x00\\xeb\\x00\\xb4\\x00\\x8f\\x00%\\x00\\xdb\\x00\\xf7\\x00\\x01\\x02\\x9b\\x01;\\x00+\\x00c\\x00!\\x00\\x16\\x00$\\x02O\\x019\\x00W\\x00\\x9d\\x00S\\x00(\\x00\\xb7\\x00R\\x01\\x01\\x01\\x86\\x01F\\x00:\\x00T\\x00-\\x00\\x17\\x00\\xac\\x02x\\x01T\\x00P\\x00\\xaf\\x00b\\x00K\\x00*\\x00\\xb0\\x00T\\x00#\\x02C\\x00.\\x00R\\x00^\\x00\"\\x00u\\x02l\\x01\\x8a\\x00\\x9c\\x00\\x95\\x00\\x92\\x00\\xbb\\x007\\x00_\\x00<\\x01\\xf2\\x01T\\x00A\\x000\\x00\\x91\\x00?\\x00\\xd2\\x01\\xd7\\x00\\xd0\\x00\\x03\\x018\\x00\\x8d\\x00\\x7f\\x01g\\x00M\\x01{\\x01\\xb0\\x01c\\x007\\x00J\\x00\\xa0\\x00n\\x00 \\x00t\\x00\\xa1\\x00\\x8d\\x00<\\x00\\xd6\\x00\\x19\\x02\\xd5\\x00J\\x01?\\x01{\\x01\\x95\\x00i\\x00\\xe7\\x00y\\x02v\\x01\\xef\\x00b\\x00s\\x01W\\x00\\x8f\\x00\\x14\\x01]\\x01G\\x01\\xe4\\x00O\\x01R\\x01f\\x01\\xf7\\x00*\\x00\\x1f\\x01!\\x01h\\x01(\\x03y\\x03\\'\\x01\\x84\\x00\\x9b\\x006\\x013\\x011\\x011\\x012\\x01Q\\x015\\x01\\xb7\\x00 \\x010\\x01 \\x01\\xb1\\x02\\xce\\x02C\\x01P\\x01\\x15\\x01\\x18\\x01\\x17\\x01\\x16\\x01\\x15\\x01\\x14\\x012\\x01+\\x01#\\x01 \\x01\\x1e\\x01\\x18\\x01\\x14\\x01T\\x01/\\x01\\xa0\\x00\\x01\\x01\\xfd\\x00\\xfd\\x00\\xfc\\x00\\xfb\\x00\\xfb\\x00\\x1b\\x01\\x13\\x01\\x0b\\x01\\t\\x01\\x05\\x01\\x00\\x01\\xfc\\x00\\xf7\\x00N\\x01\\xee\\x00\\xea\\x00\\xe8\\x00\\xe8\\x00\\xe7\\x00\\xe7\\x00\\xe9\\x00\\x05\\x01\\xff\\x00\\xf9\\x00\\xf5\\x00\\xf0\\x00\\xec\\x00\\xe8\\x00\\xe4\\x00\\x00\\x01\\xda\\x00\\xd9\\x00\\xd8\\x00\\xd5\\x00\\xd4\\x00\\xd6\\x00\\xda\\x00\\xf2\\x00\\xee\\x00\\xe9\\x00\\xe5\\x00\\xde\\x00\\xda\\x00\\xd8\\x00\\xd4\\x00\\xcd\\x00\\xca\\x00\\xc7\\x00\\xc6\\x00\\xc7\\x00\\xc6\\x00\\xc8\\x00\\xcd\\x00\\xe0\\x00\\xdd\\x00\\xd9\\x00\\xd6\\x00\\xd2\\x00\\xce\\x00\\xcb\\x00\\xc6\\x00\\xbe\\x00\\xbb\\x00\\xb9\\x00\\xb9\\x00\\xb9\\x00\\xba\\x00\\xbd\\x00\\xc4\\x00\\xd2\\x00\\xcf\\x00\\xcd\\x00\\xca\\x00\\xc8\\x00\\xc4\\x00\\xbf\\x00\\xbc\\x00\\xb7\\x00\\xb1\\x00\\xad\\x00\\xae\\x00\\xb0\\x00\\xb0\\x00\\xb4\\x00\\xba\\x00\\xc8\\x00\\xc3\\x00\\xc3\\x00\\xc1\\x00\\xbd\\x00\\xb8\\x00\\xb3\\x00\\xb2\\x00\\xaf\\x00\\xaa\\x00\\xa8\\x00\\xaa\\x00\\xaa\\x00\\xab\\x00\\xad\\x00\\xaf\\x00\\x00\\x08\\x00\\x00\\x00\\x00\\x00\\x00\\x02\\x01\\x00\\x00\\x00\\x00\\x00\\x00\\x00\\x01\\x00\\x00\\x00\\x00\\x00\\x00\\x00\\x00\\x00\\x00\\x00\\x00\\x00\\x00\\x02\\x0cbplist00\\xd4\\x01\\x02\\x03\\x04\\x05\\x06\\x07\\x08UflagsUvalueYtimescaleUepoch\\x10\\x01\\x13\\x00\\x00u;k\\x93\\x1f\\xed\\x12;\\x9a\\xca\\x00\\x10\\x00\\x08\\x11\\x17\\x1d\\'-/8=\\x00\\x00\\x00\\x00\\x00\\x00\\x01\\x01\\x00\\x00\\x00\\x00\\x00\\x00\\x00\\t\\x00\\x00\\x00\\x00\\x00\\x00\\x00\\x00\\x00\\x00\\x00\\x00\\x00\\x00\\x00?\\xff\\xffU\\xbb\\x00\\x00\\xb3\\x10\\x00\\x00\\x19\\xe3\\x00\\x04\\xa0$\\xff\\xfe\\x82\\x98\\x00\\x05r\\x1b73951625-481A-4896-ADD5-244BBE35848E\\x00\\x0066507B58-E189-49A8-83A1-D98DE07BD37B\\x00\\x00\\x00\\x00\\x00\\x00\\x00\\x00\\x00\\x01\\x00\\x01\\x85o\\x00\\x00\\x0c\\xba61B99EB0-748F-4BA7-B962-A1038DDF725B\\x00\\x00'}\n"
     ]
    }
   ],
   "source": [
    "labeled = get_labeled_exif(exif)\n",
    "print(labeled)"
   ]
  },
  {
   "cell_type": "code",
   "execution_count": 7,
   "metadata": {
    "scrolled": true
   },
   "outputs": [
    {
     "name": "stdout",
     "output_type": "stream",
     "text": [
      "{'GPSLatitudeRef': 'N', 'GPSLatitude': ((12, 1), (1, 1), (5722, 100)), 'GPSLongitudeRef': 'E', 'GPSLongitude': ((108, 1), (24, 1), (4508, 100)), 'GPSAltitudeRef': b'\\x00', 'GPSAltitude': (3329836, 1745), 'GPSSpeedRef': 'K', 'GPSSpeed': (0, 1), 'GPSImgDirectionRef': 'T', 'GPSImgDirection': (482515, 1697), 'GPSDestBearingRef': 'T', 'GPSDestBearing': (221397, 2122), 'GPSDateStamp': '2019:12:28', 'GPSHPositioningError': (62977, 13299)}\n"
     ]
    }
   ],
   "source": [
    "geotags = get_geotagging(exif)\n",
    "print(geotags)"
   ]
  },
  {
   "cell_type": "code",
   "execution_count": 8,
   "metadata": {},
   "outputs": [
    {
     "name": "stdout",
     "output_type": "stream",
     "text": [
      "(12.03256, 108.41252)\n"
     ]
    }
   ],
   "source": [
    "geotags = get_geotagging(exif)\n",
    "print(get_coordinates(geotags))"
   ]
  },
  {
   "cell_type": "markdown",
   "metadata": {},
   "source": [
    "Hence, by searching on the coordinates on google map. The photo is actually taken at **Lát, Lạc Dương District, Lâm Đồng, Vietnam**"
   ]
  }
 ],
 "metadata": {
  "kernelspec": {
   "display_name": "Python 3",
   "language": "python",
   "name": "python3"
  },
  "language_info": {
   "codemirror_mode": {
    "name": "ipython",
    "version": 3
   },
   "file_extension": ".py",
   "mimetype": "text/x-python",
   "name": "python",
   "nbconvert_exporter": "python",
   "pygments_lexer": "ipython3",
   "version": "3.7.4"
  }
 },
 "nbformat": 4,
 "nbformat_minor": 2
}
