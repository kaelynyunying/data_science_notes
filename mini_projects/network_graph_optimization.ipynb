{
 "cells": [
  {
   "cell_type": "markdown",
   "metadata": {},
   "source": [
    "#### NetworkX Graph Optimization "
   ]
  },
  {
   "cell_type": "markdown",
   "metadata": {},
   "source": [
    "- Motivating Graph Optimization:\n",
    "The Problem\n",
    "Personal Motivation\n",
    "- Introducing Graphs:\n",
    "Introducing NetworkX\n",
    "Installing packages\n",
    "- Load Data\n",
    "- Create Graph\n",
    "- Inspect Graph\n",
    "- Visualize Graph\n",
    "- Solving the CPP:\n",
    "Overview of CPP Algorithm\n",
    "Assumptions and Simplifications\n",
    "CPP Step 1: Find Nodes of Odd Degree\n",
    "CPP Step 2: Find Min Distance Pairs\n",
    "CPP Step 3: Compute Eulerian Circuit\n",
    "Compute CPP Solution\n",
    "Visualize CPP Solution"
   ]
  },
  {
   "cell_type": "code",
   "execution_count": null,
   "metadata": {},
   "outputs": [],
   "source": []
  }
 ],
 "metadata": {
  "kernelspec": {
   "display_name": "Python 3",
   "language": "python",
   "name": "python3"
  },
  "language_info": {
   "codemirror_mode": {
    "name": "ipython",
    "version": 3
   },
   "file_extension": ".py",
   "mimetype": "text/x-python",
   "name": "python",
   "nbconvert_exporter": "python",
   "pygments_lexer": "ipython3",
   "version": "3.7.4"
  }
 },
 "nbformat": 4,
 "nbformat_minor": 2
}
