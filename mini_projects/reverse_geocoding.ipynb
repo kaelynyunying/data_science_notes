{
 "cells": [
  {
   "cell_type": "markdown",
   "metadata": {},
   "source": [
    "#### Objecttive of mini_project:\n",
    "\n",
    "- perform reverse_geocoding \n",
    "\n",
    "#### Potential use cases of reverse_geocoding\n",
    "\n",
    "- Real-life location data will be collected once customer log in to the application with activation of GPS services\n",
    "- Potential room for hyper-local marketing messages\n",
    "- Useful for fraud detection if the address reverse_geocoding does not match real origin or destination address\n",
    "- Standardization of addresses (if the current addresses are not labelled in a standard way since different customers key in differently)"
   ]
  },
  {
   "cell_type": "markdown",
   "metadata": {},
   "source": [
    "#### Package Import"
   ]
  },
  {
   "cell_type": "code",
   "execution_count": null,
   "metadata": {},
   "outputs": [],
   "source": [
    "pip install pygeocoder"
   ]
  },
  {
   "cell_type": "code",
   "execution_count": null,
   "metadata": {},
   "outputs": [],
   "source": [
    "from pygeocoder import Geocoder\n",
    "import pandas as pd\n",
    "import numpy as np\n",
    "#require google map api key"
   ]
  },
  {
   "cell_type": "code",
   "execution_count": null,
   "metadata": {},
   "outputs": [],
   "source": [
    "# create sample geo data\n",
    "data = {'We Work Office': '1.278742, 103.848749',\n",
    "        'Axa Office': '1.276227, 103.847321',\n",
    "        'Gohub': '1.360273, 103.833594'}\n",
    "\n",
    "# convert data to dataframes \n",
    "df_final = pd.DataFrame.from_dict(data, orient='index')\n",
    "\n",
    "# show dataframe\n",
    "df_final"
   ]
  },
  {
   "cell_type": "code",
   "execution_count": null,
   "metadata": {},
   "outputs": [],
   "source": [
    "# extrat the latitude and longitude from the dataframe \n",
    "# Create two lists for the loop results to be placed\n",
    "lat = []\n",
    "lon = []\n",
    "\n",
    "# For each row in a varible,\n",
    "for row in df_final[0]:\n",
    "    # Try to,\n",
    "    try:\n",
    "        # Split the row by comma, convert to float, and append\n",
    "        # everything before the comma to lat\n",
    "        lat.append(float(row.split(',')[0]))\n",
    "        # Split the row by comma, convert to float, and append\n",
    "        # everything after the comma to lon\n",
    "        lon.append(float(row.split(',')[1]))\n",
    "    # But if you get an error\n",
    "    except:\n",
    "        # append a missing value to lat\n",
    "        lat.append(np.NaN)\n",
    "        # append a missing value to lon\n",
    "        lon.append(np.NaN)\n",
    "\n",
    "# Create two new columns from lat and lon\n",
    "df_final['latitude'] = lat\n",
    "df_final['longitude'] = lon"
   ]
  },
  {
   "cell_type": "code",
   "execution_count": null,
   "metadata": {},
   "outputs": [],
   "source": [
    "df_final"
   ]
  },
  {
   "cell_type": "code",
   "execution_count": null,
   "metadata": {
    "scrolled": true
   },
   "outputs": [],
   "source": [
    "# Convert longitude and latitude to a location\n",
    "address_list = []\n",
    "for i in len(df_final):\n",
    "    results = Geocoder.reverse_geocode(df_final['latitude'][i], df_final['longitude'][i])\n",
    "    address_list.append(results.street_address)"
   ]
  }
 ],
 "metadata": {
  "kernelspec": {
   "display_name": "Python 3",
   "language": "python",
   "name": "python3"
  },
  "language_info": {
   "codemirror_mode": {
    "name": "ipython",
    "version": 3
   },
   "file_extension": ".py",
   "mimetype": "text/x-python",
   "name": "python",
   "nbconvert_exporter": "python",
   "pygments_lexer": "ipython3",
   "version": "3.7.4"
  }
 },
 "nbformat": 4,
 "nbformat_minor": 2
}
